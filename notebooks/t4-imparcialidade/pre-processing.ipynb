{
 "cells": [
  {
   "cell_type": "markdown",
   "metadata": {},
   "source": [
    "# Pre-processing techniques"
   ]
  },
  {
   "cell_type": "code",
   "execution_count": 1,
   "metadata": {},
   "outputs": [
    {
     "name": "stderr",
     "output_type": "stream",
     "text": [
      "WARNING:root:No module named 'tempeh': LawSchoolGPADataset will be unavailable. To install, run:\n",
      "pip install 'aif360[LawSchoolGPA]'\n",
      "WARNING:root:No module named 'tensorflow': AdversarialDebiasing will be unavailable. To install, run:\n",
      "pip install 'aif360[AdversarialDebiasing]'\n",
      "WARNING:root:No module named 'tensorflow': AdversarialDebiasing will be unavailable. To install, run:\n",
      "pip install 'aif360[AdversarialDebiasing]'\n"
     ]
    }
   ],
   "source": [
    "import pandas as pd\n",
    "import numpy as np\n",
    "\n",
    "from sklearn.tree import DecisionTreeClassifier\n",
    "from sklearn.metrics import classification_report, confusion_matrix, f1_score\n",
    "\n",
    "from aif360.datasets import StandardDataset\n",
    "from aif360.algorithms.preprocessing import Reweighing, DisparateImpactRemover\n",
    "from aif360.metrics import BinaryLabelDatasetMetric"
   ]
  },
  {
   "cell_type": "code",
   "execution_count": 2,
   "metadata": {},
   "outputs": [
    {
     "data": {
      "text/html": [
       "<div>\n",
       "<style scoped>\n",
       "    .dataframe tbody tr th:only-of-type {\n",
       "        vertical-align: middle;\n",
       "    }\n",
       "\n",
       "    .dataframe tbody tr th {\n",
       "        vertical-align: top;\n",
       "    }\n",
       "\n",
       "    .dataframe thead th {\n",
       "        text-align: right;\n",
       "    }\n",
       "</style>\n",
       "<table border=\"1\" class=\"dataframe\">\n",
       "  <thead>\n",
       "    <tr style=\"text-align: right;\">\n",
       "      <th></th>\n",
       "      <th>Unnamed: 0</th>\n",
       "      <th>Age</th>\n",
       "      <th>Income</th>\n",
       "      <th>faves_pca0</th>\n",
       "      <th>faves_pca1</th>\n",
       "      <th>unfaves_pca0</th>\n",
       "      <th>unfaves_pca1</th>\n",
       "      <th>accessories</th>\n",
       "      <th>alcohol</th>\n",
       "      <th>animamted</th>\n",
       "      <th>...</th>\n",
       "      <th>Drama.2</th>\n",
       "      <th>Entertainment (Variety Shows)</th>\n",
       "      <th>Factual</th>\n",
       "      <th>Learning</th>\n",
       "      <th>Music</th>\n",
       "      <th>News</th>\n",
       "      <th>Religion &amp;amp; Ethics</th>\n",
       "      <th>Sport.1</th>\n",
       "      <th>Weather</th>\n",
       "      <th>Rating_bin</th>\n",
       "    </tr>\n",
       "  </thead>\n",
       "  <tbody>\n",
       "    <tr>\n",
       "      <th>0</th>\n",
       "      <td>0</td>\n",
       "      <td>62</td>\n",
       "      <td>1</td>\n",
       "      <td>-0.321485</td>\n",
       "      <td>0.0786</td>\n",
       "      <td>-0.19967</td>\n",
       "      <td>-0.200645</td>\n",
       "      <td>0.0</td>\n",
       "      <td>0.0</td>\n",
       "      <td>0.0</td>\n",
       "      <td>...</td>\n",
       "      <td>1</td>\n",
       "      <td>0</td>\n",
       "      <td>0</td>\n",
       "      <td>0</td>\n",
       "      <td>0</td>\n",
       "      <td>0</td>\n",
       "      <td>0</td>\n",
       "      <td>0</td>\n",
       "      <td>0</td>\n",
       "      <td>0</td>\n",
       "    </tr>\n",
       "    <tr>\n",
       "      <th>1</th>\n",
       "      <td>1</td>\n",
       "      <td>62</td>\n",
       "      <td>1</td>\n",
       "      <td>-0.321485</td>\n",
       "      <td>0.0786</td>\n",
       "      <td>-0.19967</td>\n",
       "      <td>-0.200645</td>\n",
       "      <td>0.0</td>\n",
       "      <td>0.0</td>\n",
       "      <td>0.0</td>\n",
       "      <td>...</td>\n",
       "      <td>1</td>\n",
       "      <td>0</td>\n",
       "      <td>0</td>\n",
       "      <td>0</td>\n",
       "      <td>0</td>\n",
       "      <td>0</td>\n",
       "      <td>0</td>\n",
       "      <td>0</td>\n",
       "      <td>0</td>\n",
       "      <td>0</td>\n",
       "    </tr>\n",
       "    <tr>\n",
       "      <th>2</th>\n",
       "      <td>2</td>\n",
       "      <td>62</td>\n",
       "      <td>1</td>\n",
       "      <td>-0.321485</td>\n",
       "      <td>0.0786</td>\n",
       "      <td>-0.19967</td>\n",
       "      <td>-0.200645</td>\n",
       "      <td>0.0</td>\n",
       "      <td>0.0</td>\n",
       "      <td>0.0</td>\n",
       "      <td>...</td>\n",
       "      <td>1</td>\n",
       "      <td>0</td>\n",
       "      <td>0</td>\n",
       "      <td>0</td>\n",
       "      <td>0</td>\n",
       "      <td>0</td>\n",
       "      <td>0</td>\n",
       "      <td>0</td>\n",
       "      <td>0</td>\n",
       "      <td>0</td>\n",
       "    </tr>\n",
       "    <tr>\n",
       "      <th>3</th>\n",
       "      <td>3</td>\n",
       "      <td>62</td>\n",
       "      <td>1</td>\n",
       "      <td>-0.321485</td>\n",
       "      <td>0.0786</td>\n",
       "      <td>-0.19967</td>\n",
       "      <td>-0.200645</td>\n",
       "      <td>0.0</td>\n",
       "      <td>0.0</td>\n",
       "      <td>0.0</td>\n",
       "      <td>...</td>\n",
       "      <td>1</td>\n",
       "      <td>0</td>\n",
       "      <td>0</td>\n",
       "      <td>0</td>\n",
       "      <td>0</td>\n",
       "      <td>0</td>\n",
       "      <td>0</td>\n",
       "      <td>0</td>\n",
       "      <td>0</td>\n",
       "      <td>0</td>\n",
       "    </tr>\n",
       "    <tr>\n",
       "      <th>4</th>\n",
       "      <td>4</td>\n",
       "      <td>62</td>\n",
       "      <td>1</td>\n",
       "      <td>-0.321485</td>\n",
       "      <td>0.0786</td>\n",
       "      <td>-0.19967</td>\n",
       "      <td>-0.200645</td>\n",
       "      <td>0.0</td>\n",
       "      <td>0.0</td>\n",
       "      <td>0.0</td>\n",
       "      <td>...</td>\n",
       "      <td>1</td>\n",
       "      <td>0</td>\n",
       "      <td>0</td>\n",
       "      <td>0</td>\n",
       "      <td>0</td>\n",
       "      <td>0</td>\n",
       "      <td>0</td>\n",
       "      <td>0</td>\n",
       "      <td>0</td>\n",
       "      <td>0</td>\n",
       "    </tr>\n",
       "  </tbody>\n",
       "</table>\n",
       "<p>5 rows × 515 columns</p>\n",
       "</div>"
      ],
      "text/plain": [
       "   Unnamed: 0  Age  Income  faves_pca0  faves_pca1  unfaves_pca0  \\\n",
       "0           0   62       1   -0.321485      0.0786      -0.19967   \n",
       "1           1   62       1   -0.321485      0.0786      -0.19967   \n",
       "2           2   62       1   -0.321485      0.0786      -0.19967   \n",
       "3           3   62       1   -0.321485      0.0786      -0.19967   \n",
       "4           4   62       1   -0.321485      0.0786      -0.19967   \n",
       "\n",
       "   unfaves_pca1  accessories  alcohol  animamted  ...  Drama.2  \\\n",
       "0     -0.200645          0.0      0.0        0.0  ...        1   \n",
       "1     -0.200645          0.0      0.0        0.0  ...        1   \n",
       "2     -0.200645          0.0      0.0        0.0  ...        1   \n",
       "3     -0.200645          0.0      0.0        0.0  ...        1   \n",
       "4     -0.200645          0.0      0.0        0.0  ...        1   \n",
       "\n",
       "   Entertainment (Variety Shows)  Factual  Learning  Music  News  \\\n",
       "0                              0        0         0      0     0   \n",
       "1                              0        0         0      0     0   \n",
       "2                              0        0         0      0     0   \n",
       "3                              0        0         0      0     0   \n",
       "4                              0        0         0      0     0   \n",
       "\n",
       "   Religion &amp; Ethics  Sport.1  Weather  Rating_bin  \n",
       "0                      0        0        0           0  \n",
       "1                      0        0        0           0  \n",
       "2                      0        0        0           0  \n",
       "3                      0        0        0           0  \n",
       "4                      0        0        0           0  \n",
       "\n",
       "[5 rows x 515 columns]"
      ]
     },
     "execution_count": 2,
     "metadata": {},
     "output_type": "execute_result"
    }
   ],
   "source": [
    "df = pd.read_csv('../../data/final_features_df.csv')\n",
    "df.head()"
   ]
  },
  {
   "cell_type": "code",
   "execution_count": 3,
   "metadata": {},
   "outputs": [],
   "source": [
    "df_0 = df.fillna(0)"
   ]
  },
  {
   "cell_type": "code",
   "execution_count": 4,
   "metadata": {},
   "outputs": [],
   "source": [
    "privileged_groups = [{'Gender_M': 1}]\n",
    "unprivileged_groups = [{'Gender_M': 0}]"
   ]
  },
  {
   "cell_type": "code",
   "execution_count": 5,
   "metadata": {},
   "outputs": [
    {
     "data": {
      "text/plain": [
       "0    31279\n",
       "1     4841\n",
       "Name: Rating_bin, dtype: int64"
      ]
     },
     "execution_count": 5,
     "metadata": {},
     "output_type": "execute_result"
    }
   ],
   "source": [
    "df_0['Rating_bin'].value_counts()"
   ]
  },
  {
   "cell_type": "code",
   "execution_count": 6,
   "metadata": {},
   "outputs": [
    {
     "data": {
      "text/plain": [
       "Index(['Unnamed: 0', 'Age', 'Income', 'faves_pca0', 'faves_pca1',\n",
       "       'unfaves_pca0', 'unfaves_pca1', 'accessories', 'alcohol', 'animamted',\n",
       "       ...\n",
       "       'Drama.2', 'Entertainment (Variety Shows)', 'Factual', 'Learning',\n",
       "       'Music', 'News', 'Religion &amp; Ethics', 'Sport.1', 'Weather',\n",
       "       'Rating_bin'],\n",
       "      dtype='object', length=515)"
      ]
     },
     "execution_count": 6,
     "metadata": {},
     "output_type": "execute_result"
    }
   ],
   "source": [
    "df_0.columns"
   ]
  },
  {
   "cell_type": "code",
   "execution_count": 7,
   "metadata": {},
   "outputs": [],
   "source": [
    "aif360_df = StandardDataset(\n",
    "    df = df_0.drop(['Gender_F', 'Unnamed: 0'], axis = 1),\n",
    "    label_name = 'Rating_bin',\n",
    "    protected_attribute_names = ['Gender_M'],\n",
    "    favorable_classes = [0],\n",
    "    privileged_classes = [df_0['Gender_M'], lambda x: x == 1]\n",
    ")"
   ]
  },
  {
   "cell_type": "code",
   "execution_count": 8,
   "metadata": {},
   "outputs": [],
   "source": [
    "df_train, df_test = aif360_df.split([0.85], shuffle=True, seed = 42)"
   ]
  },
  {
   "cell_type": "code",
   "execution_count": 9,
   "metadata": {},
   "outputs": [],
   "source": [
    "X_train = df_train.features\n",
    "y_train = df_train.labels\n",
    "\n",
    "X_test = df_test.features\n",
    "y_test = df_test.labels"
   ]
  },
  {
   "cell_type": "code",
   "execution_count": 10,
   "metadata": {},
   "outputs": [
    {
     "name": "stdout",
     "output_type": "stream",
     "text": [
      "Statistical Parity Difference between unprivileged and privileged groups in original dataset = 0.018700\n"
     ]
    }
   ],
   "source": [
    "metric_orig = BinaryLabelDatasetMetric(aif360_df, \n",
    "                                       unprivileged_groups=unprivileged_groups,\n",
    "                                       privileged_groups=privileged_groups,\n",
    "                                       )\n",
    "\n",
    "print(\"Statistical Parity Difference between unprivileged and privileged groups in original dataset = %f\" % metric_orig.statistical_parity_difference())"
   ]
  },
  {
   "cell_type": "code",
   "execution_count": 11,
   "metadata": {},
   "outputs": [],
   "source": [
    "df_conv = aif360_df.convert_to_dataframe()[0]"
   ]
  },
  {
   "cell_type": "code",
   "execution_count": 12,
   "metadata": {},
   "outputs": [
    {
     "data": {
      "text/plain": [
       "(30702, 513)"
      ]
     },
     "execution_count": 12,
     "metadata": {},
     "output_type": "execute_result"
    }
   ],
   "source": [
    "df_train.convert_to_dataframe()[0].shape"
   ]
  },
  {
   "cell_type": "code",
   "execution_count": 13,
   "metadata": {},
   "outputs": [
    {
     "data": {
      "text/plain": [
       "(30702, 512)"
      ]
     },
     "execution_count": 13,
     "metadata": {},
     "output_type": "execute_result"
    }
   ],
   "source": [
    "X_train.shape"
   ]
  },
  {
   "cell_type": "code",
   "execution_count": 14,
   "metadata": {},
   "outputs": [
    {
     "data": {
      "text/plain": [
       "-0.0154855124915005"
      ]
     },
     "execution_count": 14,
     "metadata": {},
     "output_type": "execute_result"
    }
   ],
   "source": [
    "from aif360.sklearn.metrics import statistical_parity_difference\n",
    "statistical_parity_difference(y_test, y_test, prot_attr= df_test.convert_to_dataframe()[0]['Gender_M'] == 1)"
   ]
  },
  {
   "cell_type": "code",
   "execution_count": 15,
   "metadata": {},
   "outputs": [],
   "source": [
    "def statistical_parity(y, y_, Z, priv=None):\n",
    "  if priv is None:\n",
    "    values = np.unique(Z)\n",
    "    counts = [np.mean(y[Z==z]) for z in values]\n",
    "    priv = values[np.argmax(counts)]\n",
    "    unpriv = [z for z in values if z != priv]\n",
    "    print('Automatic priviledged value is', priv)\n",
    "  else:\n",
    "    unpriv = [z for z in values if z != priv]\n",
    "  \n",
    "  return np.array([np.mean([y_i for y_i, zi in zip(y_, Z) if zi == unp]) - np.mean([y_i for y_i, zi in zip(y_, Z) if zi == priv])\n",
    "                   for unp in unpriv])\n"
   ]
  },
  {
   "cell_type": "code",
   "execution_count": 16,
   "metadata": {},
   "outputs": [
    {
     "name": "stdout",
     "output_type": "stream",
     "text": [
      "Automatic priviledged value is True\n"
     ]
    },
    {
     "data": {
      "text/plain": [
       "array([-0.01548551])"
      ]
     },
     "execution_count": 16,
     "metadata": {},
     "output_type": "execute_result"
    }
   ],
   "source": [
    "statistical_parity(y_test, y_test, df_test.convert_to_dataframe()[0]['Gender_M'] == 1)"
   ]
  },
  {
   "cell_type": "markdown",
   "metadata": {},
   "source": [
    "It's interesting to note the differences between the ways to calculate Statistical Parity Difference. This notebook is left with all the previous cells intentionally."
   ]
  },
  {
   "cell_type": "markdown",
   "metadata": {},
   "source": [
    "## Baseline model: Decision Tree"
   ]
  },
  {
   "cell_type": "code",
   "execution_count": 17,
   "metadata": {},
   "outputs": [
    {
     "name": "stdout",
     "output_type": "stream",
     "text": [
      "              precision    recall  f1-score   support\n",
      "\n",
      "         0.0       0.95      0.66      0.78      4738\n",
      "         1.0       0.24      0.74      0.36       680\n",
      "\n",
      "    accuracy                           0.67      5418\n",
      "   macro avg       0.59      0.70      0.57      5418\n",
      "weighted avg       0.86      0.67      0.72      5418\n",
      "\n"
     ]
    },
    {
     "data": {
      "text/plain": [
       "array([[3123, 1615],\n",
       "       [ 176,  504]])"
      ]
     },
     "execution_count": 17,
     "metadata": {},
     "output_type": "execute_result"
    }
   ],
   "source": [
    "clf = DecisionTreeClassifier(class_weight='balanced')\n",
    "clf.fit(X_train, y_train)\n",
    "y_pred = clf.predict(X_test)\n",
    "print(classification_report(y_test, y_pred))\n",
    "confusion_matrix(y_test, y_pred)"
   ]
  },
  {
   "cell_type": "code",
   "execution_count": 18,
   "metadata": {},
   "outputs": [
    {
     "data": {
      "text/plain": [
       "0.36012861736334406"
      ]
     },
     "execution_count": 18,
     "metadata": {},
     "output_type": "execute_result"
    }
   ],
   "source": [
    "f1_score(y_test, y_pred)"
   ]
  },
  {
   "cell_type": "code",
   "execution_count": 19,
   "metadata": {},
   "outputs": [
    {
     "name": "stdout",
     "output_type": "stream",
     "text": [
      "Automatic priviledged value is True\n"
     ]
    },
    {
     "data": {
      "text/plain": [
       "array([-0.05141679])"
      ]
     },
     "execution_count": 19,
     "metadata": {},
     "output_type": "execute_result"
    }
   ],
   "source": [
    "statistical_parity(y_test, y_pred, df_test.convert_to_dataframe()[0]['Gender_M'] == 1)"
   ]
  },
  {
   "cell_type": "markdown",
   "metadata": {},
   "source": [
    "## Reweight"
   ]
  },
  {
   "cell_type": "code",
   "execution_count": 20,
   "metadata": {},
   "outputs": [],
   "source": [
    "RW = Reweighing(unprivileged_groups=unprivileged_groups,\n",
    "               privileged_groups=privileged_groups)"
   ]
  },
  {
   "cell_type": "code",
   "execution_count": 21,
   "metadata": {},
   "outputs": [],
   "source": [
    "RW.fit(aif360_df)\n",
    "train_transf = RW.transform(df_train)\n",
    "test_transf = RW.transform(df_test)"
   ]
  },
  {
   "cell_type": "code",
   "execution_count": 22,
   "metadata": {},
   "outputs": [],
   "source": [
    "X_train = train_transf.features\n",
    "y_train = train_transf.labels\n",
    "\n",
    "X_test = test_transf.features\n",
    "y_test = test_transf.labels"
   ]
  },
  {
   "cell_type": "code",
   "execution_count": 23,
   "metadata": {},
   "outputs": [
    {
     "name": "stdout",
     "output_type": "stream",
     "text": [
      "              precision    recall  f1-score   support\n",
      "\n",
      "         0.0       0.95      0.66      0.78      4738\n",
      "         1.0       0.24      0.74      0.36       680\n",
      "\n",
      "    accuracy                           0.67      5418\n",
      "   macro avg       0.59      0.70      0.57      5418\n",
      "weighted avg       0.86      0.67      0.72      5418\n",
      "\n"
     ]
    },
    {
     "data": {
      "text/plain": [
       "array([[3123, 1615],\n",
       "       [ 176,  504]])"
      ]
     },
     "execution_count": 23,
     "metadata": {},
     "output_type": "execute_result"
    }
   ],
   "source": [
    "clf = DecisionTreeClassifier(class_weight='balanced')\n",
    "clf.fit(X_train, y_train)\n",
    "y_pred = clf.predict(X_test)\n",
    "print(classification_report(y_test, y_pred))\n",
    "confusion_matrix(y_test, y_pred)"
   ]
  },
  {
   "cell_type": "code",
   "execution_count": 24,
   "metadata": {},
   "outputs": [
    {
     "data": {
      "text/plain": [
       "0.36012861736334406"
      ]
     },
     "execution_count": 24,
     "metadata": {},
     "output_type": "execute_result"
    }
   ],
   "source": [
    "f1_score(y_test, y_pred)"
   ]
  },
  {
   "cell_type": "code",
   "execution_count": 25,
   "metadata": {},
   "outputs": [
    {
     "name": "stdout",
     "output_type": "stream",
     "text": [
      "Automatic priviledged value is True\n"
     ]
    },
    {
     "data": {
      "text/plain": [
       "array([-0.05141679])"
      ]
     },
     "execution_count": 25,
     "metadata": {},
     "output_type": "execute_result"
    }
   ],
   "source": [
    "statistical_parity(y_test, y_pred, test_transf.convert_to_dataframe()[0]['Gender_M'] == 1)"
   ]
  },
  {
   "cell_type": "markdown",
   "metadata": {},
   "source": [
    "## Disparate Impact Remover"
   ]
  },
  {
   "cell_type": "code",
   "execution_count": 26,
   "metadata": {},
   "outputs": [],
   "source": [
    "di = DisparateImpactRemover(repair_level = 1.0)\n",
    "# dataset_transf_train = di.fit(aif360_df)\n",
    "\n",
    "train_transf = di.fit_transform(df_train)\n",
    "test_transf = di.fit_transform(df_test)"
   ]
  },
  {
   "cell_type": "code",
   "execution_count": 27,
   "metadata": {},
   "outputs": [],
   "source": [
    "X_train = train_transf.features\n",
    "y_train = train_transf.labels\n",
    "\n",
    "X_test = test_transf.features\n",
    "y_test = test_transf.labels"
   ]
  },
  {
   "cell_type": "code",
   "execution_count": 28,
   "metadata": {},
   "outputs": [
    {
     "name": "stdout",
     "output_type": "stream",
     "text": [
      "              precision    recall  f1-score   support\n",
      "\n",
      "         0.0       0.88      1.00      0.93      4738\n",
      "         1.0       0.58      0.04      0.08       680\n",
      "\n",
      "    accuracy                           0.88      5418\n",
      "   macro avg       0.73      0.52      0.51      5418\n",
      "weighted avg       0.84      0.88      0.83      5418\n",
      "\n"
     ]
    },
    {
     "data": {
      "text/plain": [
       "array([[4717,   21],\n",
       "       [ 651,   29]])"
      ]
     },
     "execution_count": 28,
     "metadata": {},
     "output_type": "execute_result"
    }
   ],
   "source": [
    "clf = DecisionTreeClassifier()\n",
    "clf.fit(X_train, y_train)\n",
    "y_pred = clf.predict(X_test)\n",
    "print(classification_report(y_test, y_pred))\n",
    "confusion_matrix(y_test, y_pred)"
   ]
  },
  {
   "cell_type": "code",
   "execution_count": 29,
   "metadata": {},
   "outputs": [
    {
     "data": {
      "text/plain": [
       "0.07945205479452055"
      ]
     },
     "execution_count": 29,
     "metadata": {},
     "output_type": "execute_result"
    }
   ],
   "source": [
    "f1_score(y_test, y_pred)"
   ]
  },
  {
   "cell_type": "code",
   "execution_count": 30,
   "metadata": {},
   "outputs": [
    {
     "name": "stdout",
     "output_type": "stream",
     "text": [
      "Automatic priviledged value is True\n"
     ]
    },
    {
     "data": {
      "text/plain": [
       "array([0.0142572])"
      ]
     },
     "execution_count": 30,
     "metadata": {},
     "output_type": "execute_result"
    }
   ],
   "source": [
    "statistical_parity(y_test, y_pred, test_transf.convert_to_dataframe()[0]['Gender_M'] == 1)"
   ]
  },
  {
   "cell_type": "markdown",
   "metadata": {},
   "source": [
    "# Testing code from class"
   ]
  },
  {
   "cell_type": "code",
   "execution_count": 31,
   "metadata": {},
   "outputs": [],
   "source": [
    "import itertools\n",
    "from sklearn.base import BaseEstimator, TransformerMixin, MetaEstimatorMixin\n",
    "from sklearn.utils import check_array\n",
    "from sklearn.utils.validation import check_is_fitted\n",
    "from sklearn.compose import ColumnTransformer\n",
    "\n",
    "from sklearn.linear_model import LogisticRegression"
   ]
  },
  {
   "cell_type": "code",
   "execution_count": 32,
   "metadata": {},
   "outputs": [],
   "source": [
    "from sklearn.model_selection import train_test_split"
   ]
  },
  {
   "cell_type": "code",
   "execution_count": 33,
   "metadata": {},
   "outputs": [],
   "source": [
    "class CounterfactualPreProcessing(MetaEstimatorMixin, BaseEstimator):\n",
    "    def __init__(self, estimator, sensitive_feature_ids):\n",
    "        self.estimator = estimator\n",
    "        self.sensitive_feature_ids = sensitive_feature_ids\n",
    "\n",
    "    def fit(self, X, y):\n",
    "      sensitive_columns = X[:, self.sensitive_feature_ids]\n",
    "      self.unique_values = []\n",
    "      for scol in sensitive_columns.T:\n",
    "        self.unique_values+=[np.unique(scol).tolist()]\n",
    "      \n",
    "      X_rows = []\n",
    "      y_rows = []\n",
    "      \n",
    "      for xi, yi in zip(X, y):\n",
    "        for comb in itertools.product(*self.unique_values):\n",
    "          comb = np.array(comb)\n",
    "          xi[self.sensitive_feature_ids] = comb\n",
    "          X_rows+=[xi.copy()]\n",
    "          y_rows+= [yi]\n",
    "              \n",
    "      X_transf = np.array(X_rows)\n",
    "      y_transf = np.array(y_rows)\n",
    "\n",
    "      print(X_transf.shape, y_transf.shape)\n",
    "\n",
    "      self.estimator.fit(X_transf, y_transf)\n",
    "      return self\n",
    "    \n",
    "    def predict(self, X):\n",
    "      return self.estimator.predict(X)\n",
    "      \n",
    "    def predict_proba(self, X):\n",
    "      return self.estimator.predict_proba(X)\n",
    "\n",
    "\n",
    "class Weighted(MetaEstimatorMixin, BaseEstimator):\n",
    "  def __init__(self, estimator, sensitive_feature_ids):\n",
    "    self.estimator = estimator\n",
    "    self.sensitive_feature_ids = sensitive_feature_ids\n",
    "\n",
    "  def fit(self, X, y):\n",
    "    sensitive_columns = X[:, self.sensitive_feature_ids]\n",
    "    sensitive_columns_y = np.append(X[:, self.sensitive_feature_ids], y[:, np.newaxis], axis=1)\n",
    "    \n",
    "    unique_feats = []\n",
    "    for scol in sensitive_columns.T:\n",
    "      unique_feats+=[np.unique(scol).tolist()]\n",
    "    unique_y = np.unique(y_train).tolist()\n",
    "    \n",
    "    unique_feats_y = []\n",
    "    for scol in sensitive_columns_y.T:\n",
    "      unique_feats_y+=[np.unique(scol).tolist()]\n",
    "      \n",
    "    self.unique_values = []\n",
    "    for scol in sensitive_columns.T:\n",
    "      self.unique_values+=[np.unique(scol).tolist()]\n",
    "    self.unique_values+=[np.unique(y).tolist()]\n",
    "    \n",
    "    sample_weight = np.ones(sensitive_columns_y.shape[0])\n",
    "    for comb in itertools.product(*unique_feats):\n",
    "      comb = np.array(comb)\n",
    "      where = np.prod(sensitive_columns == comb, axis=1)!=0\n",
    "      sample_weight[where] *= np.mean(np.prod(sensitive_columns == comb, axis=1))\n",
    "    \n",
    "    for comb in itertools.product(*[unique_y]):\n",
    "      comb = np.array(comb)\n",
    "      where = (y_train == comb[0])\n",
    "      sample_weight[where] *= np.mean(y_train == comb[0])\n",
    "      \n",
    "    for comb in itertools.product(*unique_feats_y):\n",
    "      comb = np.array(comb)\n",
    "      where = np.prod(sensitive_columns_y == comb, axis=1)!=0\n",
    "      sample_weight[where] /= np.mean(np.prod(sensitive_columns_y == comb, axis=1))\n",
    "    \n",
    "    self.estimator.fit(X, y, sample_weight=sample_weight)\n",
    "    return self\n",
    "  \n",
    "  def predict(self, X):\n",
    "    return self.estimator.predict(X)\n",
    "    \n",
    "  def predict_proba(self, X):\n",
    "    return self.estimator.predict_proba(X)"
   ]
  },
  {
   "cell_type": "code",
   "execution_count": 34,
   "metadata": {},
   "outputs": [],
   "source": [
    "X = df_0.drop(columns=['Rating_bin', 'Gender_F', 'Unnamed: 0'], axis = 1)\n",
    "y = df_0['Rating_bin']\n",
    "X_train, X_test, y_train, y_test = train_test_split(X, y, random_state=42, train_size=0.85)"
   ]
  },
  {
   "cell_type": "code",
   "execution_count": 35,
   "metadata": {},
   "outputs": [],
   "source": [
    "sensitive_feature_ids = X_train.columns.get_loc('Gender_M')\n",
    "X_train_tr = X_train.to_numpy()\n",
    "Z_train = X_train['Gender_M'] == 1"
   ]
  },
  {
   "cell_type": "code",
   "execution_count": 36,
   "metadata": {},
   "outputs": [
    {
     "name": "stderr",
     "output_type": "stream",
     "text": [
      "/tmp/ipykernel_130158/2375806845.py:44: FutureWarning: Support for multi-dimensional indexing (e.g. `obj[:, None]`) is deprecated and will be removed in a future version.  Convert to a numpy array before indexing instead.\n",
      "  sensitive_columns_y = np.append(X[:, self.sensitive_feature_ids], y[:, np.newaxis], axis=1)\n"
     ]
    },
    {
     "data": {
      "text/html": [
       "<style>#sk-container-id-1 {color: black;background-color: white;}#sk-container-id-1 pre{padding: 0;}#sk-container-id-1 div.sk-toggleable {background-color: white;}#sk-container-id-1 label.sk-toggleable__label {cursor: pointer;display: block;width: 100%;margin-bottom: 0;padding: 0.3em;box-sizing: border-box;text-align: center;}#sk-container-id-1 label.sk-toggleable__label-arrow:before {content: \"▸\";float: left;margin-right: 0.25em;color: #696969;}#sk-container-id-1 label.sk-toggleable__label-arrow:hover:before {color: black;}#sk-container-id-1 div.sk-estimator:hover label.sk-toggleable__label-arrow:before {color: black;}#sk-container-id-1 div.sk-toggleable__content {max-height: 0;max-width: 0;overflow: hidden;text-align: left;background-color: #f0f8ff;}#sk-container-id-1 div.sk-toggleable__content pre {margin: 0.2em;color: black;border-radius: 0.25em;background-color: #f0f8ff;}#sk-container-id-1 input.sk-toggleable__control:checked~div.sk-toggleable__content {max-height: 200px;max-width: 100%;overflow: auto;}#sk-container-id-1 input.sk-toggleable__control:checked~label.sk-toggleable__label-arrow:before {content: \"▾\";}#sk-container-id-1 div.sk-estimator input.sk-toggleable__control:checked~label.sk-toggleable__label {background-color: #d4ebff;}#sk-container-id-1 div.sk-label input.sk-toggleable__control:checked~label.sk-toggleable__label {background-color: #d4ebff;}#sk-container-id-1 input.sk-hidden--visually {border: 0;clip: rect(1px 1px 1px 1px);clip: rect(1px, 1px, 1px, 1px);height: 1px;margin: -1px;overflow: hidden;padding: 0;position: absolute;width: 1px;}#sk-container-id-1 div.sk-estimator {font-family: monospace;background-color: #f0f8ff;border: 1px dotted black;border-radius: 0.25em;box-sizing: border-box;margin-bottom: 0.5em;}#sk-container-id-1 div.sk-estimator:hover {background-color: #d4ebff;}#sk-container-id-1 div.sk-parallel-item::after {content: \"\";width: 100%;border-bottom: 1px solid gray;flex-grow: 1;}#sk-container-id-1 div.sk-label:hover label.sk-toggleable__label {background-color: #d4ebff;}#sk-container-id-1 div.sk-serial::before {content: \"\";position: absolute;border-left: 1px solid gray;box-sizing: border-box;top: 0;bottom: 0;left: 50%;z-index: 0;}#sk-container-id-1 div.sk-serial {display: flex;flex-direction: column;align-items: center;background-color: white;padding-right: 0.2em;padding-left: 0.2em;position: relative;}#sk-container-id-1 div.sk-item {position: relative;z-index: 1;}#sk-container-id-1 div.sk-parallel {display: flex;align-items: stretch;justify-content: center;background-color: white;position: relative;}#sk-container-id-1 div.sk-item::before, #sk-container-id-1 div.sk-parallel-item::before {content: \"\";position: absolute;border-left: 1px solid gray;box-sizing: border-box;top: 0;bottom: 0;left: 50%;z-index: -1;}#sk-container-id-1 div.sk-parallel-item {display: flex;flex-direction: column;z-index: 1;position: relative;background-color: white;}#sk-container-id-1 div.sk-parallel-item:first-child::after {align-self: flex-end;width: 50%;}#sk-container-id-1 div.sk-parallel-item:last-child::after {align-self: flex-start;width: 50%;}#sk-container-id-1 div.sk-parallel-item:only-child::after {width: 0;}#sk-container-id-1 div.sk-dashed-wrapped {border: 1px dashed gray;margin: 0 0.4em 0.5em 0.4em;box-sizing: border-box;padding-bottom: 0.4em;background-color: white;}#sk-container-id-1 div.sk-label label {font-family: monospace;font-weight: bold;display: inline-block;line-height: 1.2em;}#sk-container-id-1 div.sk-label-container {text-align: center;}#sk-container-id-1 div.sk-container {/* jupyter's `normalize.less` sets `[hidden] { display: none; }` but bootstrap.min.css set `[hidden] { display: none !important; }` so we also need the `!important` here to be able to override the default hidden behavior on the sphinx rendered scikit-learn.org. See: https://github.com/scikit-learn/scikit-learn/issues/21755 */display: inline-block !important;position: relative;}#sk-container-id-1 div.sk-text-repr-fallback {display: none;}</style><div id=\"sk-container-id-1\" class=\"sk-top-container\"><div class=\"sk-text-repr-fallback\"><pre>Weighted(estimator=LogisticRegression(max_iter=1000),\n",
       "         sensitive_feature_ids=[155])</pre><b>In a Jupyter environment, please rerun this cell to show the HTML representation or trust the notebook. <br />On GitHub, the HTML representation is unable to render, please try loading this page with nbviewer.org.</b></div><div class=\"sk-container\" hidden><div class=\"sk-item sk-dashed-wrapped\"><div class=\"sk-label-container\"><div class=\"sk-label sk-toggleable\"><input class=\"sk-toggleable__control sk-hidden--visually\" id=\"sk-estimator-id-1\" type=\"checkbox\" ><label for=\"sk-estimator-id-1\" class=\"sk-toggleable__label sk-toggleable__label-arrow\">Weighted</label><div class=\"sk-toggleable__content\"><pre>Weighted(estimator=LogisticRegression(max_iter=1000),\n",
       "         sensitive_feature_ids=[155])</pre></div></div></div><div class=\"sk-parallel\"><div class=\"sk-parallel-item\"><div class=\"sk-item\"><div class=\"sk-label-container\"><div class=\"sk-label sk-toggleable\"><input class=\"sk-toggleable__control sk-hidden--visually\" id=\"sk-estimator-id-2\" type=\"checkbox\" ><label for=\"sk-estimator-id-2\" class=\"sk-toggleable__label sk-toggleable__label-arrow\">estimator: LogisticRegression</label><div class=\"sk-toggleable__content\"><pre>LogisticRegression(max_iter=1000)</pre></div></div></div><div class=\"sk-serial\"><div class=\"sk-item\"><div class=\"sk-estimator sk-toggleable\"><input class=\"sk-toggleable__control sk-hidden--visually\" id=\"sk-estimator-id-3\" type=\"checkbox\" ><label for=\"sk-estimator-id-3\" class=\"sk-toggleable__label sk-toggleable__label-arrow\">LogisticRegression</label><div class=\"sk-toggleable__content\"><pre>LogisticRegression(max_iter=1000)</pre></div></div></div></div></div></div></div></div></div></div>"
      ],
      "text/plain": [
       "Weighted(estimator=LogisticRegression(max_iter=1000),\n",
       "         sensitive_feature_ids=[155])"
      ]
     },
     "execution_count": 36,
     "metadata": {},
     "output_type": "execute_result"
    }
   ],
   "source": [
    "clf_fair_weighted = Weighted(LogisticRegression(class_weight=None, max_iter=10**3), sensitive_feature_ids=[sensitive_feature_ids])\n",
    "clf_fair_weighted.fit(X_train_tr, y_train)"
   ]
  },
  {
   "cell_type": "code",
   "execution_count": 37,
   "metadata": {},
   "outputs": [
    {
     "name": "stdout",
     "output_type": "stream",
     "text": [
      "Automatic priviledged value is True\n",
      "Statistical parity [0.01191151]\n",
      "F1 0.05575757575757576\n"
     ]
    }
   ],
   "source": [
    "y_test_ = clf_fair_weighted.predict(X_test.to_numpy())\n",
    "Z_test = X_test['Gender_M']==1\n",
    "print('Statistical parity', statistical_parity(y_test, y_test_, Z_test))\n",
    "print('F1', f1_score(y_test, y_test_))"
   ]
  },
  {
   "cell_type": "code",
   "execution_count": 38,
   "metadata": {},
   "outputs": [
    {
     "name": "stdout",
     "output_type": "stream",
     "text": [
      "(61404, 512) (61404,)\n"
     ]
    },
    {
     "data": {
      "text/html": [
       "<style>#sk-container-id-2 {color: black;background-color: white;}#sk-container-id-2 pre{padding: 0;}#sk-container-id-2 div.sk-toggleable {background-color: white;}#sk-container-id-2 label.sk-toggleable__label {cursor: pointer;display: block;width: 100%;margin-bottom: 0;padding: 0.3em;box-sizing: border-box;text-align: center;}#sk-container-id-2 label.sk-toggleable__label-arrow:before {content: \"▸\";float: left;margin-right: 0.25em;color: #696969;}#sk-container-id-2 label.sk-toggleable__label-arrow:hover:before {color: black;}#sk-container-id-2 div.sk-estimator:hover label.sk-toggleable__label-arrow:before {color: black;}#sk-container-id-2 div.sk-toggleable__content {max-height: 0;max-width: 0;overflow: hidden;text-align: left;background-color: #f0f8ff;}#sk-container-id-2 div.sk-toggleable__content pre {margin: 0.2em;color: black;border-radius: 0.25em;background-color: #f0f8ff;}#sk-container-id-2 input.sk-toggleable__control:checked~div.sk-toggleable__content {max-height: 200px;max-width: 100%;overflow: auto;}#sk-container-id-2 input.sk-toggleable__control:checked~label.sk-toggleable__label-arrow:before {content: \"▾\";}#sk-container-id-2 div.sk-estimator input.sk-toggleable__control:checked~label.sk-toggleable__label {background-color: #d4ebff;}#sk-container-id-2 div.sk-label input.sk-toggleable__control:checked~label.sk-toggleable__label {background-color: #d4ebff;}#sk-container-id-2 input.sk-hidden--visually {border: 0;clip: rect(1px 1px 1px 1px);clip: rect(1px, 1px, 1px, 1px);height: 1px;margin: -1px;overflow: hidden;padding: 0;position: absolute;width: 1px;}#sk-container-id-2 div.sk-estimator {font-family: monospace;background-color: #f0f8ff;border: 1px dotted black;border-radius: 0.25em;box-sizing: border-box;margin-bottom: 0.5em;}#sk-container-id-2 div.sk-estimator:hover {background-color: #d4ebff;}#sk-container-id-2 div.sk-parallel-item::after {content: \"\";width: 100%;border-bottom: 1px solid gray;flex-grow: 1;}#sk-container-id-2 div.sk-label:hover label.sk-toggleable__label {background-color: #d4ebff;}#sk-container-id-2 div.sk-serial::before {content: \"\";position: absolute;border-left: 1px solid gray;box-sizing: border-box;top: 0;bottom: 0;left: 50%;z-index: 0;}#sk-container-id-2 div.sk-serial {display: flex;flex-direction: column;align-items: center;background-color: white;padding-right: 0.2em;padding-left: 0.2em;position: relative;}#sk-container-id-2 div.sk-item {position: relative;z-index: 1;}#sk-container-id-2 div.sk-parallel {display: flex;align-items: stretch;justify-content: center;background-color: white;position: relative;}#sk-container-id-2 div.sk-item::before, #sk-container-id-2 div.sk-parallel-item::before {content: \"\";position: absolute;border-left: 1px solid gray;box-sizing: border-box;top: 0;bottom: 0;left: 50%;z-index: -1;}#sk-container-id-2 div.sk-parallel-item {display: flex;flex-direction: column;z-index: 1;position: relative;background-color: white;}#sk-container-id-2 div.sk-parallel-item:first-child::after {align-self: flex-end;width: 50%;}#sk-container-id-2 div.sk-parallel-item:last-child::after {align-self: flex-start;width: 50%;}#sk-container-id-2 div.sk-parallel-item:only-child::after {width: 0;}#sk-container-id-2 div.sk-dashed-wrapped {border: 1px dashed gray;margin: 0 0.4em 0.5em 0.4em;box-sizing: border-box;padding-bottom: 0.4em;background-color: white;}#sk-container-id-2 div.sk-label label {font-family: monospace;font-weight: bold;display: inline-block;line-height: 1.2em;}#sk-container-id-2 div.sk-label-container {text-align: center;}#sk-container-id-2 div.sk-container {/* jupyter's `normalize.less` sets `[hidden] { display: none; }` but bootstrap.min.css set `[hidden] { display: none !important; }` so we also need the `!important` here to be able to override the default hidden behavior on the sphinx rendered scikit-learn.org. See: https://github.com/scikit-learn/scikit-learn/issues/21755 */display: inline-block !important;position: relative;}#sk-container-id-2 div.sk-text-repr-fallback {display: none;}</style><div id=\"sk-container-id-2\" class=\"sk-top-container\"><div class=\"sk-text-repr-fallback\"><pre>CounterfactualPreProcessing(estimator=LogisticRegression(max_iter=1000),\n",
       "                            sensitive_feature_ids=[155])</pre><b>In a Jupyter environment, please rerun this cell to show the HTML representation or trust the notebook. <br />On GitHub, the HTML representation is unable to render, please try loading this page with nbviewer.org.</b></div><div class=\"sk-container\" hidden><div class=\"sk-item sk-dashed-wrapped\"><div class=\"sk-label-container\"><div class=\"sk-label sk-toggleable\"><input class=\"sk-toggleable__control sk-hidden--visually\" id=\"sk-estimator-id-4\" type=\"checkbox\" ><label for=\"sk-estimator-id-4\" class=\"sk-toggleable__label sk-toggleable__label-arrow\">CounterfactualPreProcessing</label><div class=\"sk-toggleable__content\"><pre>CounterfactualPreProcessing(estimator=LogisticRegression(max_iter=1000),\n",
       "                            sensitive_feature_ids=[155])</pre></div></div></div><div class=\"sk-parallel\"><div class=\"sk-parallel-item\"><div class=\"sk-item\"><div class=\"sk-label-container\"><div class=\"sk-label sk-toggleable\"><input class=\"sk-toggleable__control sk-hidden--visually\" id=\"sk-estimator-id-5\" type=\"checkbox\" ><label for=\"sk-estimator-id-5\" class=\"sk-toggleable__label sk-toggleable__label-arrow\">estimator: LogisticRegression</label><div class=\"sk-toggleable__content\"><pre>LogisticRegression(max_iter=1000)</pre></div></div></div><div class=\"sk-serial\"><div class=\"sk-item\"><div class=\"sk-estimator sk-toggleable\"><input class=\"sk-toggleable__control sk-hidden--visually\" id=\"sk-estimator-id-6\" type=\"checkbox\" ><label for=\"sk-estimator-id-6\" class=\"sk-toggleable__label sk-toggleable__label-arrow\">LogisticRegression</label><div class=\"sk-toggleable__content\"><pre>LogisticRegression(max_iter=1000)</pre></div></div></div></div></div></div></div></div></div></div>"
      ],
      "text/plain": [
       "CounterfactualPreProcessing(estimator=LogisticRegression(max_iter=1000),\n",
       "                            sensitive_feature_ids=[155])"
      ]
     },
     "execution_count": 38,
     "metadata": {},
     "output_type": "execute_result"
    }
   ],
   "source": [
    "clf_fair_counter = CounterfactualPreProcessing(LogisticRegression(class_weight=None, max_iter=10**3), sensitive_feature_ids=[sensitive_feature_ids])\n",
    "clf_fair_counter.fit(X_train_tr, y_train)"
   ]
  },
  {
   "cell_type": "code",
   "execution_count": 39,
   "metadata": {},
   "outputs": [
    {
     "name": "stdout",
     "output_type": "stream",
     "text": [
      "Automatic priviledged value is True\n",
      "Statistical parity [0.01191151]\n",
      "F1 0.05575757575757576\n"
     ]
    }
   ],
   "source": [
    "y_test_ = clf_fair_counter.predict(X_test.to_numpy())\n",
    "Z_test = X_test['Gender_M'] == 1\n",
    "print('Statistical parity', statistical_parity(y_test, y_test_, Z_test))\n",
    "print('F1', f1_score(y_test, y_test_))"
   ]
  },
  {
   "cell_type": "code",
   "execution_count": 42,
   "metadata": {},
   "outputs": [
    {
     "name": "stdout",
     "output_type": "stream",
     "text": [
      "Automatic priviledged value is True\n",
      "Statistical parity [-0.03088743]\n",
      "F1 0.38822387576835976\n"
     ]
    }
   ],
   "source": [
    "baseline_lr = LogisticRegression(class_weight='balanced', max_iter=10**3)\n",
    "baseline_lr.fit(X_train, y_train)\n",
    "y_pred = baseline_lr.predict(X_test)\n",
    "\n",
    "print('Statistical parity', statistical_parity(y_test, y_pred, Z_test))\n",
    "print('F1', f1_score(y_test, y_pred))"
   ]
  }
 ],
 "metadata": {
  "kernelspec": {
   "display_name": "Python 3 (ipykernel)",
   "language": "python",
   "name": "python3"
  },
  "language_info": {
   "codemirror_mode": {
    "name": "ipython",
    "version": 3
   },
   "file_extension": ".py",
   "mimetype": "text/x-python",
   "name": "python",
   "nbconvert_exporter": "python",
   "pygments_lexer": "ipython3",
   "version": "3.10.8"
  },
  "vscode": {
   "interpreter": {
    "hash": "40d31e63ec9ea2e20ed3c82f8f8f09c9cfcb087848551707a33b558afb7dcb40"
   }
  }
 },
 "nbformat": 4,
 "nbformat_minor": 4
}
