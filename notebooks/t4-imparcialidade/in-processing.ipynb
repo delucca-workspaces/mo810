{
 "cells": [
  {
   "cell_type": "markdown",
   "metadata": {},
   "source": [
    "# In-processing"
   ]
  },
  {
   "cell_type": "code",
   "execution_count": 1,
   "metadata": {},
   "outputs": [],
   "source": [
    "import pandas as pd\n",
    "import numpy as np\n",
    "\n",
    "from sklearn.linear_model import LogisticRegression\n",
    "from sklearn.metrics import classification_report, confusion_matrix, f1_score\n",
    "from sklearn.model_selection import train_test_split\n"
   ]
  },
  {
   "cell_type": "code",
   "execution_count": 2,
   "metadata": {},
   "outputs": [
    {
     "data": {
      "text/html": [
       "<div>\n",
       "<style scoped>\n",
       "    .dataframe tbody tr th:only-of-type {\n",
       "        vertical-align: middle;\n",
       "    }\n",
       "\n",
       "    .dataframe tbody tr th {\n",
       "        vertical-align: top;\n",
       "    }\n",
       "\n",
       "    .dataframe thead th {\n",
       "        text-align: right;\n",
       "    }\n",
       "</style>\n",
       "<table border=\"1\" class=\"dataframe\">\n",
       "  <thead>\n",
       "    <tr style=\"text-align: right;\">\n",
       "      <th></th>\n",
       "      <th>Unnamed: 0</th>\n",
       "      <th>Age</th>\n",
       "      <th>Income</th>\n",
       "      <th>faves_pca0</th>\n",
       "      <th>faves_pca1</th>\n",
       "      <th>unfaves_pca0</th>\n",
       "      <th>unfaves_pca1</th>\n",
       "      <th>accessories</th>\n",
       "      <th>alcohol</th>\n",
       "      <th>animamted</th>\n",
       "      <th>...</th>\n",
       "      <th>Drama.2</th>\n",
       "      <th>Entertainment (Variety Shows)</th>\n",
       "      <th>Factual</th>\n",
       "      <th>Learning</th>\n",
       "      <th>Music</th>\n",
       "      <th>News</th>\n",
       "      <th>Religion &amp;amp; Ethics</th>\n",
       "      <th>Sport.1</th>\n",
       "      <th>Weather</th>\n",
       "      <th>Rating_bin</th>\n",
       "    </tr>\n",
       "  </thead>\n",
       "  <tbody>\n",
       "    <tr>\n",
       "      <th>0</th>\n",
       "      <td>0</td>\n",
       "      <td>62</td>\n",
       "      <td>1</td>\n",
       "      <td>-0.321485</td>\n",
       "      <td>0.0786</td>\n",
       "      <td>-0.19967</td>\n",
       "      <td>-0.200645</td>\n",
       "      <td>0.0</td>\n",
       "      <td>0.0</td>\n",
       "      <td>0.0</td>\n",
       "      <td>...</td>\n",
       "      <td>1</td>\n",
       "      <td>0</td>\n",
       "      <td>0</td>\n",
       "      <td>0</td>\n",
       "      <td>0</td>\n",
       "      <td>0</td>\n",
       "      <td>0</td>\n",
       "      <td>0</td>\n",
       "      <td>0</td>\n",
       "      <td>0</td>\n",
       "    </tr>\n",
       "    <tr>\n",
       "      <th>1</th>\n",
       "      <td>1</td>\n",
       "      <td>62</td>\n",
       "      <td>1</td>\n",
       "      <td>-0.321485</td>\n",
       "      <td>0.0786</td>\n",
       "      <td>-0.19967</td>\n",
       "      <td>-0.200645</td>\n",
       "      <td>0.0</td>\n",
       "      <td>0.0</td>\n",
       "      <td>0.0</td>\n",
       "      <td>...</td>\n",
       "      <td>1</td>\n",
       "      <td>0</td>\n",
       "      <td>0</td>\n",
       "      <td>0</td>\n",
       "      <td>0</td>\n",
       "      <td>0</td>\n",
       "      <td>0</td>\n",
       "      <td>0</td>\n",
       "      <td>0</td>\n",
       "      <td>0</td>\n",
       "    </tr>\n",
       "    <tr>\n",
       "      <th>2</th>\n",
       "      <td>2</td>\n",
       "      <td>62</td>\n",
       "      <td>1</td>\n",
       "      <td>-0.321485</td>\n",
       "      <td>0.0786</td>\n",
       "      <td>-0.19967</td>\n",
       "      <td>-0.200645</td>\n",
       "      <td>0.0</td>\n",
       "      <td>0.0</td>\n",
       "      <td>0.0</td>\n",
       "      <td>...</td>\n",
       "      <td>1</td>\n",
       "      <td>0</td>\n",
       "      <td>0</td>\n",
       "      <td>0</td>\n",
       "      <td>0</td>\n",
       "      <td>0</td>\n",
       "      <td>0</td>\n",
       "      <td>0</td>\n",
       "      <td>0</td>\n",
       "      <td>0</td>\n",
       "    </tr>\n",
       "    <tr>\n",
       "      <th>3</th>\n",
       "      <td>3</td>\n",
       "      <td>62</td>\n",
       "      <td>1</td>\n",
       "      <td>-0.321485</td>\n",
       "      <td>0.0786</td>\n",
       "      <td>-0.19967</td>\n",
       "      <td>-0.200645</td>\n",
       "      <td>0.0</td>\n",
       "      <td>0.0</td>\n",
       "      <td>0.0</td>\n",
       "      <td>...</td>\n",
       "      <td>1</td>\n",
       "      <td>0</td>\n",
       "      <td>0</td>\n",
       "      <td>0</td>\n",
       "      <td>0</td>\n",
       "      <td>0</td>\n",
       "      <td>0</td>\n",
       "      <td>0</td>\n",
       "      <td>0</td>\n",
       "      <td>0</td>\n",
       "    </tr>\n",
       "    <tr>\n",
       "      <th>4</th>\n",
       "      <td>4</td>\n",
       "      <td>62</td>\n",
       "      <td>1</td>\n",
       "      <td>-0.321485</td>\n",
       "      <td>0.0786</td>\n",
       "      <td>-0.19967</td>\n",
       "      <td>-0.200645</td>\n",
       "      <td>0.0</td>\n",
       "      <td>0.0</td>\n",
       "      <td>0.0</td>\n",
       "      <td>...</td>\n",
       "      <td>1</td>\n",
       "      <td>0</td>\n",
       "      <td>0</td>\n",
       "      <td>0</td>\n",
       "      <td>0</td>\n",
       "      <td>0</td>\n",
       "      <td>0</td>\n",
       "      <td>0</td>\n",
       "      <td>0</td>\n",
       "      <td>0</td>\n",
       "    </tr>\n",
       "  </tbody>\n",
       "</table>\n",
       "<p>5 rows × 515 columns</p>\n",
       "</div>"
      ],
      "text/plain": [
       "   Unnamed: 0  Age  Income  faves_pca0  faves_pca1  unfaves_pca0  \\\n",
       "0           0   62       1   -0.321485      0.0786      -0.19967   \n",
       "1           1   62       1   -0.321485      0.0786      -0.19967   \n",
       "2           2   62       1   -0.321485      0.0786      -0.19967   \n",
       "3           3   62       1   -0.321485      0.0786      -0.19967   \n",
       "4           4   62       1   -0.321485      0.0786      -0.19967   \n",
       "\n",
       "   unfaves_pca1  accessories  alcohol  animamted  ...  Drama.2  \\\n",
       "0     -0.200645          0.0      0.0        0.0  ...        1   \n",
       "1     -0.200645          0.0      0.0        0.0  ...        1   \n",
       "2     -0.200645          0.0      0.0        0.0  ...        1   \n",
       "3     -0.200645          0.0      0.0        0.0  ...        1   \n",
       "4     -0.200645          0.0      0.0        0.0  ...        1   \n",
       "\n",
       "   Entertainment (Variety Shows)  Factual  Learning  Music  News  \\\n",
       "0                              0        0         0      0     0   \n",
       "1                              0        0         0      0     0   \n",
       "2                              0        0         0      0     0   \n",
       "3                              0        0         0      0     0   \n",
       "4                              0        0         0      0     0   \n",
       "\n",
       "   Religion &amp; Ethics  Sport.1  Weather  Rating_bin  \n",
       "0                      0        0        0           0  \n",
       "1                      0        0        0           0  \n",
       "2                      0        0        0           0  \n",
       "3                      0        0        0           0  \n",
       "4                      0        0        0           0  \n",
       "\n",
       "[5 rows x 515 columns]"
      ]
     },
     "execution_count": 2,
     "metadata": {},
     "output_type": "execute_result"
    }
   ],
   "source": [
    "df = pd.read_csv('../../data/final_features_df.csv')\n",
    "df.head()"
   ]
  },
  {
   "cell_type": "code",
   "execution_count": 3,
   "metadata": {},
   "outputs": [],
   "source": [
    "df_0 = df.fillna(0)"
   ]
  },
  {
   "cell_type": "code",
   "execution_count": 4,
   "metadata": {},
   "outputs": [],
   "source": [
    "X = df_0.drop(columns=['Rating_bin', 'Gender_F', 'Unnamed: 0'])\n",
    "y = df_0['Rating_bin']\n",
    "X_train, X_test, y_train, y_test = train_test_split(X, y, random_state=42, train_size=0.85)"
   ]
  },
  {
   "cell_type": "markdown",
   "metadata": {},
   "source": [
    "## Baseline model: Logistic Regression"
   ]
  },
  {
   "cell_type": "code",
   "execution_count": 5,
   "metadata": {},
   "outputs": [
    {
     "name": "stdout",
     "output_type": "stream",
     "text": [
      "              precision    recall  f1-score   support\n",
      "\n",
      "           0       0.94      0.64      0.76      4635\n",
      "           1       0.26      0.76      0.39       783\n",
      "\n",
      "    accuracy                           0.66      5418\n",
      "   macro avg       0.60      0.70      0.58      5418\n",
      "weighted avg       0.84      0.66      0.71      5418\n",
      "\n"
     ]
    },
    {
     "name": "stderr",
     "output_type": "stream",
     "text": [
      "/home/delucca/.cache/pypoetry/virtualenvs/mo810-MtB-mBzd-py3.10/lib/python3.10/site-packages/sklearn/linear_model/_logistic.py:444: ConvergenceWarning: lbfgs failed to converge (status=1):\n",
      "STOP: TOTAL NO. of ITERATIONS REACHED LIMIT.\n",
      "\n",
      "Increase the number of iterations (max_iter) or scale the data as shown in:\n",
      "    https://scikit-learn.org/stable/modules/preprocessing.html\n",
      "Please also refer to the documentation for alternative solver options:\n",
      "    https://scikit-learn.org/stable/modules/linear_model.html#logistic-regression\n",
      "  n_iter_i = _check_optimize_result(\n"
     ]
    },
    {
     "data": {
      "text/plain": [
       "array([[2976, 1659],\n",
       "       [ 187,  596]])"
      ]
     },
     "execution_count": 5,
     "metadata": {},
     "output_type": "execute_result"
    }
   ],
   "source": [
    "clf = LogisticRegression(class_weight='balanced')\n",
    "clf.fit(X_train, y_train)\n",
    "y_pred = clf.predict(X_test)\n",
    "print(classification_report(y_test, y_pred))\n",
    "confusion_matrix(y_test, y_pred)"
   ]
  },
  {
   "cell_type": "code",
   "execution_count": 6,
   "metadata": {},
   "outputs": [
    {
     "data": {
      "text/plain": [
       "0.39236339697169187"
      ]
     },
     "execution_count": 6,
     "metadata": {},
     "output_type": "execute_result"
    }
   ],
   "source": [
    "f1_score(y_test, y_pred)"
   ]
  },
  {
   "cell_type": "markdown",
   "metadata": {},
   "source": [
    "## Metrics"
   ]
  },
  {
   "cell_type": "code",
   "execution_count": 7,
   "metadata": {},
   "outputs": [],
   "source": [
    "def statistical_parity(y, y_, Z, priv=None):\n",
    "  if priv is None:\n",
    "    values = np.unique(Z)\n",
    "    counts = [np.mean(y[Z==z]) for z in values]\n",
    "    priv = values[np.argmax(counts)]\n",
    "    unpriv = [z for z in values if z != priv]\n",
    "    print('Automatic priviledged value is', priv)\n",
    "  else:\n",
    "    unpriv = [z for z in values if z != priv]\n",
    "  \n",
    "  return np.array([np.mean([y_i for y_i, zi in zip(y_, Z) if zi == unp]) - np.mean([y_i for y_i, zi in zip(y_, Z) if zi == priv])\n",
    "                   for unp in unpriv])\n"
   ]
  },
  {
   "cell_type": "code",
   "execution_count": 8,
   "metadata": {},
   "outputs": [],
   "source": [
    "y_test_ = clf.predict(X_test)\n",
    "Z_test = X_test['Gender_M'] == 1"
   ]
  },
  {
   "cell_type": "code",
   "execution_count": 9,
   "metadata": {},
   "outputs": [
    {
     "name": "stdout",
     "output_type": "stream",
     "text": [
      "Automatic priviledged value is True\n",
      "Statistical parity [-0.01180838]\n"
     ]
    }
   ],
   "source": [
    "print('Statistical parity', statistical_parity(y_test, y_test_, Z_test))"
   ]
  },
  {
   "cell_type": "markdown",
   "metadata": {},
   "source": [
    "## Unawareness"
   ]
  },
  {
   "cell_type": "code",
   "execution_count": 10,
   "metadata": {},
   "outputs": [],
   "source": [
    "X = df_0.drop(columns=['Rating_bin', 'Gender_M', 'Gender_F', 'Unnamed: 0'])\n",
    "y = df_0['Rating_bin']\n",
    "X_train, X_test, y_train, y_test = train_test_split(X, y, random_state=42, train_size = 0.85)"
   ]
  },
  {
   "cell_type": "code",
   "execution_count": 11,
   "metadata": {},
   "outputs": [
    {
     "name": "stdout",
     "output_type": "stream",
     "text": [
      "              precision    recall  f1-score   support\n",
      "\n",
      "           0       0.94      0.63      0.76      4635\n",
      "           1       0.26      0.77      0.39       783\n",
      "\n",
      "    accuracy                           0.65      5418\n",
      "   macro avg       0.60      0.70      0.57      5418\n",
      "weighted avg       0.84      0.65      0.70      5418\n",
      "\n"
     ]
    },
    {
     "name": "stderr",
     "output_type": "stream",
     "text": [
      "/home/delucca/.cache/pypoetry/virtualenvs/mo810-MtB-mBzd-py3.10/lib/python3.10/site-packages/sklearn/linear_model/_logistic.py:444: ConvergenceWarning: lbfgs failed to converge (status=1):\n",
      "STOP: TOTAL NO. of ITERATIONS REACHED LIMIT.\n",
      "\n",
      "Increase the number of iterations (max_iter) or scale the data as shown in:\n",
      "    https://scikit-learn.org/stable/modules/preprocessing.html\n",
      "Please also refer to the documentation for alternative solver options:\n",
      "    https://scikit-learn.org/stable/modules/linear_model.html#logistic-regression\n",
      "  n_iter_i = _check_optimize_result(\n"
     ]
    },
    {
     "data": {
      "text/plain": [
       "array([[2927, 1708],\n",
       "       [ 182,  601]])"
      ]
     },
     "execution_count": 11,
     "metadata": {},
     "output_type": "execute_result"
    }
   ],
   "source": [
    "clf = LogisticRegression(class_weight='balanced')\n",
    "clf.fit(X_train, y_train)\n",
    "y_pred = clf.predict(X_test)\n",
    "print(classification_report(y_test, y_pred))\n",
    "confusion_matrix(y_test, y_pred)"
   ]
  },
  {
   "cell_type": "code",
   "execution_count": 12,
   "metadata": {},
   "outputs": [
    {
     "name": "stdout",
     "output_type": "stream",
     "text": [
      "Automatic priviledged value is True\n",
      "Statistical parity [0.00350642]\n"
     ]
    }
   ],
   "source": [
    "print('Statistical parity', statistical_parity(y_test, y_pred, Z_test))"
   ]
  },
  {
   "cell_type": "code",
   "execution_count": 13,
   "metadata": {},
   "outputs": [
    {
     "data": {
      "text/plain": [
       "0.38874514877102195"
      ]
     },
     "execution_count": 13,
     "metadata": {},
     "output_type": "execute_result"
    }
   ],
   "source": [
    "f1_score(y_test, y_pred)"
   ]
  },
  {
   "cell_type": "markdown",
   "metadata": {},
   "source": [
    "## Reweight"
   ]
  },
  {
   "cell_type": "code",
   "execution_count": 14,
   "metadata": {},
   "outputs": [],
   "source": [
    "X = df_0.drop(columns=['Rating_bin', 'Gender_F', 'Unnamed: 0'])\n",
    "y = df_0['Rating_bin']\n",
    "X_train, X_test, y_train, y_test = train_test_split(X, y, random_state=42, train_size = 0.85)"
   ]
  },
  {
   "cell_type": "code",
   "execution_count": 15,
   "metadata": {},
   "outputs": [],
   "source": [
    "p_male = np.mean(X_train['Gender_M']==1)\n",
    "p_female = np.mean(X_train['Gender_M']==0)\n",
    "p_1 = np.mean(y_train==1)\n",
    "p_0 = np.mean(y_train==0)\n",
    "p_male_1 = np.mean((X_train['Gender_M']==1)&(y_train==1))\n",
    "p_male_0 = np.mean((X_train['Gender_M']==1)&(y_train==0))\n",
    "p_female_1 = np.mean((X_train['Gender_M']==0)&(y_train==1))\n",
    "p_female_0 = np.mean((X_train['Gender_M']==0)&(y_train==0))"
   ]
  },
  {
   "cell_type": "code",
   "execution_count": 16,
   "metadata": {},
   "outputs": [],
   "source": [
    "w = np.ones(X_train.shape[0])"
   ]
  },
  {
   "cell_type": "code",
   "execution_count": 17,
   "metadata": {},
   "outputs": [],
   "source": [
    "w[(X_train['Gender_M']==1)&(y_train==1)]=p_male*p_1/p_male_1\n",
    "w[(X_train['Gender_M']==1)&(y_train==0)]=p_male*p_0/p_male_0\n",
    "w[(X_train['Gender_M']==0)&(y_train==1)]=p_female*p_1/p_female_1\n",
    "w[(X_train['Gender_M']==0)&(y_train==0)]=p_female*p_0/p_female_0"
   ]
  },
  {
   "cell_type": "code",
   "execution_count": 18,
   "metadata": {},
   "outputs": [
    {
     "data": {
      "text/html": [
       "<div>\n",
       "<style scoped>\n",
       "    .dataframe tbody tr th:only-of-type {\n",
       "        vertical-align: middle;\n",
       "    }\n",
       "\n",
       "    .dataframe tbody tr th {\n",
       "        vertical-align: top;\n",
       "    }\n",
       "\n",
       "    .dataframe thead th {\n",
       "        text-align: right;\n",
       "    }\n",
       "</style>\n",
       "<table border=\"1\" class=\"dataframe\">\n",
       "  <thead>\n",
       "    <tr style=\"text-align: right;\">\n",
       "      <th></th>\n",
       "      <th>Gender_M</th>\n",
       "      <th>y</th>\n",
       "      <th>w</th>\n",
       "    </tr>\n",
       "  </thead>\n",
       "  <tbody>\n",
       "    <tr>\n",
       "      <th>6067</th>\n",
       "      <td>0</td>\n",
       "      <td>0</td>\n",
       "      <td>0.992184</td>\n",
       "    </tr>\n",
       "    <tr>\n",
       "      <th>19006</th>\n",
       "      <td>0</td>\n",
       "      <td>0</td>\n",
       "      <td>0.992184</td>\n",
       "    </tr>\n",
       "    <tr>\n",
       "      <th>22061</th>\n",
       "      <td>0</td>\n",
       "      <td>0</td>\n",
       "      <td>0.992184</td>\n",
       "    </tr>\n",
       "    <tr>\n",
       "      <th>4201</th>\n",
       "      <td>1</td>\n",
       "      <td>1</td>\n",
       "      <td>0.915770</td>\n",
       "    </tr>\n",
       "    <tr>\n",
       "      <th>22429</th>\n",
       "      <td>0</td>\n",
       "      <td>0</td>\n",
       "      <td>0.992184</td>\n",
       "    </tr>\n",
       "    <tr>\n",
       "      <th>...</th>\n",
       "      <td>...</td>\n",
       "      <td>...</td>\n",
       "      <td>...</td>\n",
       "    </tr>\n",
       "    <tr>\n",
       "      <th>16850</th>\n",
       "      <td>1</td>\n",
       "      <td>0</td>\n",
       "      <td>1.014208</td>\n",
       "    </tr>\n",
       "    <tr>\n",
       "      <th>6265</th>\n",
       "      <td>0</td>\n",
       "      <td>1</td>\n",
       "      <td>1.054546</td>\n",
       "    </tr>\n",
       "    <tr>\n",
       "      <th>11284</th>\n",
       "      <td>1</td>\n",
       "      <td>0</td>\n",
       "      <td>1.014208</td>\n",
       "    </tr>\n",
       "    <tr>\n",
       "      <th>860</th>\n",
       "      <td>1</td>\n",
       "      <td>0</td>\n",
       "      <td>1.014208</td>\n",
       "    </tr>\n",
       "    <tr>\n",
       "      <th>15795</th>\n",
       "      <td>0</td>\n",
       "      <td>0</td>\n",
       "      <td>0.992184</td>\n",
       "    </tr>\n",
       "  </tbody>\n",
       "</table>\n",
       "<p>30702 rows × 3 columns</p>\n",
       "</div>"
      ],
      "text/plain": [
       "       Gender_M  y         w\n",
       "6067          0  0  0.992184\n",
       "19006         0  0  0.992184\n",
       "22061         0  0  0.992184\n",
       "4201          1  1  0.915770\n",
       "22429         0  0  0.992184\n",
       "...         ... ..       ...\n",
       "16850         1  0  1.014208\n",
       "6265          0  1  1.054546\n",
       "11284         1  0  1.014208\n",
       "860           1  0  1.014208\n",
       "15795         0  0  0.992184\n",
       "\n",
       "[30702 rows x 3 columns]"
      ]
     },
     "execution_count": 18,
     "metadata": {},
     "output_type": "execute_result"
    }
   ],
   "source": [
    "aux = pd.DataFrame(columns = ['Gender_M', 'y', 'w'])\n",
    "aux['Gender_M'] = X_train['Gender_M']\n",
    "aux['y'] = y_train\n",
    "aux['w'] = w\n",
    "aux"
   ]
  },
  {
   "cell_type": "code",
   "execution_count": 19,
   "metadata": {},
   "outputs": [
    {
     "name": "stdout",
     "output_type": "stream",
     "text": [
      "              precision    recall  f1-score   support\n",
      "\n",
      "           0       0.94      0.62      0.74      4635\n",
      "           1       0.25      0.78      0.38       783\n",
      "\n",
      "    accuracy                           0.64      5418\n",
      "   macro avg       0.60      0.70      0.56      5418\n",
      "weighted avg       0.84      0.64      0.69      5418\n",
      "\n"
     ]
    },
    {
     "data": {
      "text/plain": [
       "array([[2854, 1781],\n",
       "       [ 174,  609]])"
      ]
     },
     "execution_count": 19,
     "metadata": {},
     "output_type": "execute_result"
    }
   ],
   "source": [
    "clf = LogisticRegression(solver = 'liblinear', penalty = 'l1', class_weight='balanced')\n",
    "clf.fit(X_train, y_train, sample_weight = w)\n",
    "y_pred = clf.predict(X_test)\n",
    "print(classification_report(y_test, y_pred))\n",
    "confusion_matrix(y_test, y_pred)"
   ]
  },
  {
   "cell_type": "code",
   "execution_count": 20,
   "metadata": {},
   "outputs": [
    {
     "name": "stdout",
     "output_type": "stream",
     "text": [
      "Automatic priviledged value is True\n",
      "Statistical parity [0.02647863]\n"
     ]
    }
   ],
   "source": [
    "print('Statistical parity', statistical_parity(y_test, y_pred, Z_test))"
   ]
  },
  {
   "cell_type": "code",
   "execution_count": 21,
   "metadata": {},
   "outputs": [
    {
     "data": {
      "text/plain": [
       "0.3838638512448786"
      ]
     },
     "execution_count": 21,
     "metadata": {},
     "output_type": "execute_result"
    }
   ],
   "source": [
    "f1_score(y_test, y_pred)"
   ]
  }
 ],
 "metadata": {
  "kernelspec": {
   "display_name": "Python 3 (ipykernel)",
   "language": "python",
   "name": "python3"
  },
  "language_info": {
   "codemirror_mode": {
    "name": "ipython",
    "version": 3
   },
   "file_extension": ".py",
   "mimetype": "text/x-python",
   "name": "python",
   "nbconvert_exporter": "python",
   "pygments_lexer": "ipython3",
   "version": "3.10.8"
  },
  "vscode": {
   "interpreter": {
    "hash": "40d31e63ec9ea2e20ed3c82f8f8f09c9cfcb087848551707a33b558afb7dcb40"
   }
  }
 },
 "nbformat": 4,
 "nbformat_minor": 4
}
