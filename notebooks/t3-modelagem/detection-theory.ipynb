{
 "cells": [
  {
   "cell_type": "markdown",
   "id": "66a7fd41-e0ab-4ef4-bfe2-d3afd5efffa6",
   "metadata": {},
   "source": [
    "# Detection Theory"
   ]
  },
  {
   "cell_type": "markdown",
   "id": "96dc3f9c-6482-4733-884f-0ab20b59c08b",
   "metadata": {},
   "source": [
    "Neste notebook iremos explorar aspectos da teoria de detecção. Iremos avaliar um modelo de predição, considerando três threholds diferentes e avaliando seu impacto no desempenho das predições. Como material de suporte utilizamos as aulas, bem como o capítulo de \"Detection Theory\" do livro."
   ]
  },
  {
   "cell_type": "markdown",
   "id": "783175ec-9270-40fe-b75d-19acfe699c18",
   "metadata": {},
   "source": [
    "## A importância dada aos erros"
   ]
  },
  {
   "cell_type": "markdown",
   "id": "2c44a74b-0fbc-4d60-9868-1ffb39406775",
   "metadata": {},
   "source": [
    "Quando consideramos nosso dataset, entendemos que a saída é binária. Um usuário pode gostar (dando notas 4 ou 5) ou não (dando notas inferiores a 4) de um determinado anúncio. Com base nisso, interpretamos que os **falso negativos** possuem um impacto muito superior em nosso problema. Entendemos isso pois não entregar um anúncio que uma pessoa gostaria tem um impacto muito superior a entregar anúncios que uma pessoa não gosta, principalmente pois os usuários estão acostumados a ignorar propagandas desinteressantes."
   ]
  },
  {
   "cell_type": "markdown",
   "id": "012a8991-607c-4d59-831b-96e549da1c7b",
   "metadata": {},
   "source": [
    "Com base nisso, iremos implementar o risco bayesiano para utilizá-lo como uma forma de avaliar os modelos que serão, posteriormente, treinados. Seguindo o livro e o material apresentado em aula, o risco bayesiano pode ser reduzido para:"
   ]
  },
  {
   "cell_type": "markdown",
   "id": "088e0c4e-0200-497b-9b95-1a46734b7b55",
   "metadata": {},
   "source": [
    "$$R = c_{10} \\times p_{0} \\times p_{FP} + c_{01} \\times p_{1} \\times p_{FN}$$"
   ]
  },
  {
   "cell_type": "markdown",
   "id": "f4684790-7239-4fa4-ade1-f3102217adf7",
   "metadata": {},
   "source": [
    "Em outras palavras, o risco bayesiano é a soma da multiplicação dos custos de cada um dos erros, pela suas prioris e pela probabilidade do erro acontecer. Como é apresentado no livro e nas aulas, essa é a equação reduzida, onde ignoramos os custos dos acertos, pois eles não possuem impacto no risco."
   ]
  },
  {
   "cell_type": "markdown",
   "id": "882eab86-01a4-445b-b8c1-44b5f0aad042",
   "metadata": {},
   "source": [
    "Para o cálculo do threholds, iremos considerar o valor de $\\eta$, que pode ser definido por:"
   ]
  },
  {
   "cell_type": "markdown",
   "id": "9662df0b-eddf-42c3-b5b9-62edf0feb738",
   "metadata": {},
   "source": [
    "$$\\eta = \\dfrac{c_{10} \\times p_0}{c_{01} \\times p_1}$$"
   ]
  },
  {
   "cell_type": "markdown",
   "id": "dd16c948-c7af-4996-b361-02e533247ce7",
   "metadata": {},
   "source": [
    "Com base nisso, podemos calcular o valor do threshold como sendo:"
   ]
  },
  {
   "cell_type": "markdown",
   "id": "5d9e76c8-e948-4785-b2cd-a4721818be5f",
   "metadata": {},
   "source": [
    "$$T = \\dfrac{\\eta}{1 + \\eta}$$"
   ]
  },
  {
   "cell_type": "markdown",
   "id": "5e70eafa-da59-4f5a-a630-a33acd0a7af7",
   "metadata": {},
   "source": [
    "Como foi dito anteriormente, os falsos negativos possuem um impacto superior, portanto iremos utilizar como custo: $c_{10} = 1$ e $c_{01} = 2$ "
   ]
  },
  {
   "cell_type": "markdown",
   "id": "8a197b2e-575a-4c98-af2f-cd4f6498831c",
   "metadata": {},
   "source": [
    "## Carregando os dados"
   ]
  },
  {
   "cell_type": "code",
   "execution_count": 6,
   "id": "c5193c37-2927-4a4e-b952-8126f3933a76",
   "metadata": {},
   "outputs": [
    {
     "data": {
      "text/html": [
       "<div>\n",
       "<style scoped>\n",
       "    .dataframe tbody tr th:only-of-type {\n",
       "        vertical-align: middle;\n",
       "    }\n",
       "\n",
       "    .dataframe tbody tr th {\n",
       "        vertical-align: top;\n",
       "    }\n",
       "\n",
       "    .dataframe thead th {\n",
       "        text-align: right;\n",
       "    }\n",
       "</style>\n",
       "<table border=\"1\" class=\"dataframe\">\n",
       "  <thead>\n",
       "    <tr style=\"text-align: right;\">\n",
       "      <th></th>\n",
       "      <th>Unnamed: 0</th>\n",
       "      <th>Age</th>\n",
       "      <th>Income</th>\n",
       "      <th>faves_pca0</th>\n",
       "      <th>faves_pca1</th>\n",
       "      <th>unfaves_pca0</th>\n",
       "      <th>unfaves_pca1</th>\n",
       "      <th>accessories</th>\n",
       "      <th>alcohol</th>\n",
       "      <th>animamted</th>\n",
       "      <th>...</th>\n",
       "      <th>Drama.2</th>\n",
       "      <th>Entertainment (Variety Shows)</th>\n",
       "      <th>Factual</th>\n",
       "      <th>Learning</th>\n",
       "      <th>Music</th>\n",
       "      <th>News</th>\n",
       "      <th>Religion &amp;amp; Ethics</th>\n",
       "      <th>Sport.1</th>\n",
       "      <th>Weather</th>\n",
       "      <th>Rating_bin</th>\n",
       "    </tr>\n",
       "  </thead>\n",
       "  <tbody>\n",
       "    <tr>\n",
       "      <th>0</th>\n",
       "      <td>0</td>\n",
       "      <td>62</td>\n",
       "      <td>1</td>\n",
       "      <td>-0.321485</td>\n",
       "      <td>0.078600</td>\n",
       "      <td>-0.199670</td>\n",
       "      <td>-0.200645</td>\n",
       "      <td>0.0</td>\n",
       "      <td>0.0</td>\n",
       "      <td>0.0</td>\n",
       "      <td>...</td>\n",
       "      <td>1</td>\n",
       "      <td>0</td>\n",
       "      <td>0</td>\n",
       "      <td>0</td>\n",
       "      <td>0</td>\n",
       "      <td>0</td>\n",
       "      <td>0</td>\n",
       "      <td>0</td>\n",
       "      <td>0</td>\n",
       "      <td>0</td>\n",
       "    </tr>\n",
       "    <tr>\n",
       "      <th>1</th>\n",
       "      <td>1</td>\n",
       "      <td>62</td>\n",
       "      <td>1</td>\n",
       "      <td>-0.321485</td>\n",
       "      <td>0.078600</td>\n",
       "      <td>-0.199670</td>\n",
       "      <td>-0.200645</td>\n",
       "      <td>0.0</td>\n",
       "      <td>0.0</td>\n",
       "      <td>0.0</td>\n",
       "      <td>...</td>\n",
       "      <td>1</td>\n",
       "      <td>0</td>\n",
       "      <td>0</td>\n",
       "      <td>0</td>\n",
       "      <td>0</td>\n",
       "      <td>0</td>\n",
       "      <td>0</td>\n",
       "      <td>0</td>\n",
       "      <td>0</td>\n",
       "      <td>0</td>\n",
       "    </tr>\n",
       "    <tr>\n",
       "      <th>2</th>\n",
       "      <td>2</td>\n",
       "      <td>62</td>\n",
       "      <td>1</td>\n",
       "      <td>-0.321485</td>\n",
       "      <td>0.078600</td>\n",
       "      <td>-0.199670</td>\n",
       "      <td>-0.200645</td>\n",
       "      <td>0.0</td>\n",
       "      <td>0.0</td>\n",
       "      <td>0.0</td>\n",
       "      <td>...</td>\n",
       "      <td>1</td>\n",
       "      <td>0</td>\n",
       "      <td>0</td>\n",
       "      <td>0</td>\n",
       "      <td>0</td>\n",
       "      <td>0</td>\n",
       "      <td>0</td>\n",
       "      <td>0</td>\n",
       "      <td>0</td>\n",
       "      <td>0</td>\n",
       "    </tr>\n",
       "    <tr>\n",
       "      <th>3</th>\n",
       "      <td>3</td>\n",
       "      <td>62</td>\n",
       "      <td>1</td>\n",
       "      <td>-0.321485</td>\n",
       "      <td>0.078600</td>\n",
       "      <td>-0.199670</td>\n",
       "      <td>-0.200645</td>\n",
       "      <td>0.0</td>\n",
       "      <td>0.0</td>\n",
       "      <td>0.0</td>\n",
       "      <td>...</td>\n",
       "      <td>1</td>\n",
       "      <td>0</td>\n",
       "      <td>0</td>\n",
       "      <td>0</td>\n",
       "      <td>0</td>\n",
       "      <td>0</td>\n",
       "      <td>0</td>\n",
       "      <td>0</td>\n",
       "      <td>0</td>\n",
       "      <td>0</td>\n",
       "    </tr>\n",
       "    <tr>\n",
       "      <th>4</th>\n",
       "      <td>4</td>\n",
       "      <td>62</td>\n",
       "      <td>1</td>\n",
       "      <td>-0.321485</td>\n",
       "      <td>0.078600</td>\n",
       "      <td>-0.199670</td>\n",
       "      <td>-0.200645</td>\n",
       "      <td>0.0</td>\n",
       "      <td>0.0</td>\n",
       "      <td>0.0</td>\n",
       "      <td>...</td>\n",
       "      <td>1</td>\n",
       "      <td>0</td>\n",
       "      <td>0</td>\n",
       "      <td>0</td>\n",
       "      <td>0</td>\n",
       "      <td>0</td>\n",
       "      <td>0</td>\n",
       "      <td>0</td>\n",
       "      <td>0</td>\n",
       "      <td>0</td>\n",
       "    </tr>\n",
       "    <tr>\n",
       "      <th>...</th>\n",
       "      <td>...</td>\n",
       "      <td>...</td>\n",
       "      <td>...</td>\n",
       "      <td>...</td>\n",
       "      <td>...</td>\n",
       "      <td>...</td>\n",
       "      <td>...</td>\n",
       "      <td>...</td>\n",
       "      <td>...</td>\n",
       "      <td>...</td>\n",
       "      <td>...</td>\n",
       "      <td>...</td>\n",
       "      <td>...</td>\n",
       "      <td>...</td>\n",
       "      <td>...</td>\n",
       "      <td>...</td>\n",
       "      <td>...</td>\n",
       "      <td>...</td>\n",
       "      <td>...</td>\n",
       "      <td>...</td>\n",
       "      <td>...</td>\n",
       "    </tr>\n",
       "    <tr>\n",
       "      <th>36115</th>\n",
       "      <td>36115</td>\n",
       "      <td>33</td>\n",
       "      <td>2</td>\n",
       "      <td>-0.000741</td>\n",
       "      <td>0.311926</td>\n",
       "      <td>0.206937</td>\n",
       "      <td>0.190376</td>\n",
       "      <td>0.0</td>\n",
       "      <td>0.0</td>\n",
       "      <td>0.0</td>\n",
       "      <td>...</td>\n",
       "      <td>0</td>\n",
       "      <td>0</td>\n",
       "      <td>0</td>\n",
       "      <td>0</td>\n",
       "      <td>0</td>\n",
       "      <td>0</td>\n",
       "      <td>0</td>\n",
       "      <td>1</td>\n",
       "      <td>0</td>\n",
       "      <td>0</td>\n",
       "    </tr>\n",
       "    <tr>\n",
       "      <th>36116</th>\n",
       "      <td>36116</td>\n",
       "      <td>33</td>\n",
       "      <td>2</td>\n",
       "      <td>-0.000741</td>\n",
       "      <td>0.311926</td>\n",
       "      <td>0.206937</td>\n",
       "      <td>0.190376</td>\n",
       "      <td>0.0</td>\n",
       "      <td>0.0</td>\n",
       "      <td>0.0</td>\n",
       "      <td>...</td>\n",
       "      <td>0</td>\n",
       "      <td>0</td>\n",
       "      <td>0</td>\n",
       "      <td>0</td>\n",
       "      <td>0</td>\n",
       "      <td>0</td>\n",
       "      <td>0</td>\n",
       "      <td>1</td>\n",
       "      <td>0</td>\n",
       "      <td>0</td>\n",
       "    </tr>\n",
       "    <tr>\n",
       "      <th>36117</th>\n",
       "      <td>36117</td>\n",
       "      <td>33</td>\n",
       "      <td>2</td>\n",
       "      <td>-0.000741</td>\n",
       "      <td>0.311926</td>\n",
       "      <td>0.206937</td>\n",
       "      <td>0.190376</td>\n",
       "      <td>0.0</td>\n",
       "      <td>0.0</td>\n",
       "      <td>0.0</td>\n",
       "      <td>...</td>\n",
       "      <td>0</td>\n",
       "      <td>0</td>\n",
       "      <td>0</td>\n",
       "      <td>0</td>\n",
       "      <td>0</td>\n",
       "      <td>0</td>\n",
       "      <td>0</td>\n",
       "      <td>1</td>\n",
       "      <td>0</td>\n",
       "      <td>0</td>\n",
       "    </tr>\n",
       "    <tr>\n",
       "      <th>36118</th>\n",
       "      <td>36118</td>\n",
       "      <td>33</td>\n",
       "      <td>2</td>\n",
       "      <td>-0.000741</td>\n",
       "      <td>0.311926</td>\n",
       "      <td>0.206937</td>\n",
       "      <td>0.190376</td>\n",
       "      <td>0.0</td>\n",
       "      <td>0.0</td>\n",
       "      <td>0.0</td>\n",
       "      <td>...</td>\n",
       "      <td>0</td>\n",
       "      <td>0</td>\n",
       "      <td>0</td>\n",
       "      <td>0</td>\n",
       "      <td>0</td>\n",
       "      <td>0</td>\n",
       "      <td>0</td>\n",
       "      <td>1</td>\n",
       "      <td>0</td>\n",
       "      <td>0</td>\n",
       "    </tr>\n",
       "    <tr>\n",
       "      <th>36119</th>\n",
       "      <td>36119</td>\n",
       "      <td>33</td>\n",
       "      <td>2</td>\n",
       "      <td>-0.000741</td>\n",
       "      <td>0.311926</td>\n",
       "      <td>0.206937</td>\n",
       "      <td>0.190376</td>\n",
       "      <td>0.0</td>\n",
       "      <td>0.0</td>\n",
       "      <td>0.0</td>\n",
       "      <td>...</td>\n",
       "      <td>0</td>\n",
       "      <td>0</td>\n",
       "      <td>0</td>\n",
       "      <td>0</td>\n",
       "      <td>0</td>\n",
       "      <td>0</td>\n",
       "      <td>0</td>\n",
       "      <td>1</td>\n",
       "      <td>0</td>\n",
       "      <td>0</td>\n",
       "    </tr>\n",
       "  </tbody>\n",
       "</table>\n",
       "<p>36120 rows × 515 columns</p>\n",
       "</div>"
      ],
      "text/plain": [
       "       Unnamed: 0  Age  Income  faves_pca0  faves_pca1  unfaves_pca0  \\\n",
       "0               0   62       1   -0.321485    0.078600     -0.199670   \n",
       "1               1   62       1   -0.321485    0.078600     -0.199670   \n",
       "2               2   62       1   -0.321485    0.078600     -0.199670   \n",
       "3               3   62       1   -0.321485    0.078600     -0.199670   \n",
       "4               4   62       1   -0.321485    0.078600     -0.199670   \n",
       "...           ...  ...     ...         ...         ...           ...   \n",
       "36115       36115   33       2   -0.000741    0.311926      0.206937   \n",
       "36116       36116   33       2   -0.000741    0.311926      0.206937   \n",
       "36117       36117   33       2   -0.000741    0.311926      0.206937   \n",
       "36118       36118   33       2   -0.000741    0.311926      0.206937   \n",
       "36119       36119   33       2   -0.000741    0.311926      0.206937   \n",
       "\n",
       "       unfaves_pca1  accessories  alcohol  animamted  ...  Drama.2  \\\n",
       "0         -0.200645          0.0      0.0        0.0  ...        1   \n",
       "1         -0.200645          0.0      0.0        0.0  ...        1   \n",
       "2         -0.200645          0.0      0.0        0.0  ...        1   \n",
       "3         -0.200645          0.0      0.0        0.0  ...        1   \n",
       "4         -0.200645          0.0      0.0        0.0  ...        1   \n",
       "...             ...          ...      ...        ...  ...      ...   \n",
       "36115      0.190376          0.0      0.0        0.0  ...        0   \n",
       "36116      0.190376          0.0      0.0        0.0  ...        0   \n",
       "36117      0.190376          0.0      0.0        0.0  ...        0   \n",
       "36118      0.190376          0.0      0.0        0.0  ...        0   \n",
       "36119      0.190376          0.0      0.0        0.0  ...        0   \n",
       "\n",
       "       Entertainment (Variety Shows)  Factual  Learning  Music  News  \\\n",
       "0                                  0        0         0      0     0   \n",
       "1                                  0        0         0      0     0   \n",
       "2                                  0        0         0      0     0   \n",
       "3                                  0        0         0      0     0   \n",
       "4                                  0        0         0      0     0   \n",
       "...                              ...      ...       ...    ...   ...   \n",
       "36115                              0        0         0      0     0   \n",
       "36116                              0        0         0      0     0   \n",
       "36117                              0        0         0      0     0   \n",
       "36118                              0        0         0      0     0   \n",
       "36119                              0        0         0      0     0   \n",
       "\n",
       "       Religion &amp; Ethics  Sport.1  Weather  Rating_bin  \n",
       "0                          0        0        0           0  \n",
       "1                          0        0        0           0  \n",
       "2                          0        0        0           0  \n",
       "3                          0        0        0           0  \n",
       "4                          0        0        0           0  \n",
       "...                      ...      ...      ...         ...  \n",
       "36115                      0        1        0           0  \n",
       "36116                      0        1        0           0  \n",
       "36117                      0        1        0           0  \n",
       "36118                      0        1        0           0  \n",
       "36119                      0        1        0           0  \n",
       "\n",
       "[36120 rows x 515 columns]"
      ]
     },
     "execution_count": 6,
     "metadata": {},
     "output_type": "execute_result"
    }
   ],
   "source": [
    "import pandas as pd\n",
    "\n",
    "df = pd.read_csv('../../data/final_features_df.csv')\n",
    "df = df.fillna(0)\n",
    "df"
   ]
  },
  {
   "cell_type": "markdown",
   "id": "bb15627f-8a7e-4350-8639-f18ad70df3c8",
   "metadata": {},
   "source": [
    "## Preparando o dataset para o treinamento"
   ]
  },
  {
   "cell_type": "code",
   "execution_count": 7,
   "id": "9b361ad8-4a79-45a4-8936-4ed53e97fe6b",
   "metadata": {},
   "outputs": [],
   "source": [
    "from sklearn.model_selection import train_test_split\n",
    "\n",
    "Y = df.pop('Rating_bin')\n",
    "X = df\n",
    "\n",
    "X_train, X_test, y_train, y_test = train_test_split(X, Y, test_size = 0.3, random_state = 42)"
   ]
  },
  {
   "cell_type": "markdown",
   "id": "6d8fc138-0e01-4ce0-8a92-de25b1927a69",
   "metadata": {},
   "source": [
    "## Calculando as prioris e definindo os custos"
   ]
  },
  {
   "cell_type": "code",
   "execution_count": 58,
   "id": "a8f9d9c7-4c01-4726-b6cf-bb9e550f3b9b",
   "metadata": {},
   "outputs": [
    {
     "name": "stdout",
     "output_type": "stream",
     "text": [
      "Prior for 1: 0.13205980066445183\n",
      "Prior for 0: 0.8679401993355482\n"
     ]
    }
   ],
   "source": [
    "import numpy as np\n",
    "\n",
    "p1 = np.mean(y_train)\n",
    "p0 = 1 - p1\n",
    "\n",
    "c10 = 1\n",
    "c01 = 2\n",
    "\n",
    "print(f'Prior for 1: {p1}')\n",
    "print(f'Prior for 0: {p0}')"
   ]
  },
  {
   "cell_type": "markdown",
   "id": "eb92010f-7f51-4b23-84a7-e79901b4bb7b",
   "metadata": {},
   "source": [
    "## Preparando o modelo"
   ]
  },
  {
   "cell_type": "code",
   "execution_count": 34,
   "id": "e57dab5a-101d-4ebe-9393-ac33ebc91451",
   "metadata": {},
   "outputs": [],
   "source": [
    "from sklearn.linear_model import LogisticRegression\n",
    "from sklearn.metrics import classification_report, confusion_matrix\n",
    "\n",
    "model = LogisticRegression(solver='lbfgs')\n",
    "model.fit(X_train, y_train)\n",
    "lr_probs = model.predict_proba(X_test)\n",
    "lr_probs = lr_probs[:, 1]"
   ]
  },
  {
   "cell_type": "markdown",
   "id": "440ad851-6fff-4c3b-8b27-d942a38a54de",
   "metadata": {},
   "source": [
    "## Definindo a função de predição"
   ]
  },
  {
   "cell_type": "markdown",
   "id": "bcfb6943-2124-4510-a77b-3e6a52fa9c88",
   "metadata": {},
   "source": [
    "Para o exercício, iremos definir uma função de decisão simples, que prediz $0$ ou $1$ com base em um threshold pré-definido"
   ]
  },
  {
   "cell_type": "code",
   "execution_count": 75,
   "id": "63f6343b-f535-4581-835b-ea5224e4feae",
   "metadata": {},
   "outputs": [],
   "source": [
    "def predict_with_threshold(prob, threshold=0.5):\n",
    "    return 0 if prob < threshold else 1\n",
    "\n",
    "model.predict_with_threshold = np.vectorize(predict_with_threshold)"
   ]
  },
  {
   "cell_type": "markdown",
   "id": "b5416780-c295-4a38-a850-f678e62d492f",
   "metadata": {},
   "source": [
    "## Utilizando o threshold de 0.5"
   ]
  },
  {
   "cell_type": "code",
   "execution_count": 76,
   "id": "18f93969-0ceb-47fa-bb05-aa1c78e64b0c",
   "metadata": {},
   "outputs": [
    {
     "name": "stdout",
     "output_type": "stream",
     "text": [
      "              precision    recall  f1-score   support\n",
      "\n",
      "           0       0.86      1.00      0.93      9334\n",
      "           1       0.00      0.00      0.00      1502\n",
      "\n",
      "    accuracy                           0.86     10836\n",
      "   macro avg       0.43      0.50      0.46     10836\n",
      "weighted avg       0.74      0.86      0.80     10836\n",
      "\n"
     ]
    },
    {
     "name": "stderr",
     "output_type": "stream",
     "text": [
      "/home/delucca/.cache/pypoetry/virtualenvs/mo810-MtB-mBzd-py3.10/lib/python3.10/site-packages/sklearn/metrics/_classification.py:1334: UndefinedMetricWarning: Precision and F-score are ill-defined and being set to 0.0 in labels with no predicted samples. Use `zero_division` parameter to control this behavior.\n",
      "  _warn_prf(average, modifier, msg_start, len(result))\n",
      "/home/delucca/.cache/pypoetry/virtualenvs/mo810-MtB-mBzd-py3.10/lib/python3.10/site-packages/sklearn/metrics/_classification.py:1334: UndefinedMetricWarning: Precision and F-score are ill-defined and being set to 0.0 in labels with no predicted samples. Use `zero_division` parameter to control this behavior.\n",
      "  _warn_prf(average, modifier, msg_start, len(result))\n",
      "/home/delucca/.cache/pypoetry/virtualenvs/mo810-MtB-mBzd-py3.10/lib/python3.10/site-packages/sklearn/metrics/_classification.py:1334: UndefinedMetricWarning: Precision and F-score are ill-defined and being set to 0.0 in labels with no predicted samples. Use `zero_division` parameter to control this behavior.\n",
      "  _warn_prf(average, modifier, msg_start, len(result))\n"
     ]
    }
   ],
   "source": [
    "y_pred = model.predict_with_threshold(lr_probs)\n",
    "\n",
    "print(classification_report(y_test, y_pred))"
   ]
  },
  {
   "cell_type": "markdown",
   "id": "1c4d446e-511c-47a1-88a4-a9d49607e815",
   "metadata": {},
   "source": [
    "## Utilizando o threshold com base no Bayes risk"
   ]
  },
  {
   "cell_type": "code",
   "execution_count": 77,
   "id": "e7e9a55f-b9ec-4361-909e-e4c1ccefe9e9",
   "metadata": {},
   "outputs": [
    {
     "name": "stdout",
     "output_type": "stream",
     "text": [
      "Threshold: 0.7666911225238444\n"
     ]
    }
   ],
   "source": [
    "eta = (c10*p0)/(c01*p1)\n",
    "threshold = eta/(1+eta)\n",
    "\n",
    "print(f'Threshold: {threshold}')"
   ]
  },
  {
   "cell_type": "code",
   "execution_count": 78,
   "id": "4180c7c9-7b03-429b-9f67-1be75cdf410e",
   "metadata": {},
   "outputs": [
    {
     "name": "stdout",
     "output_type": "stream",
     "text": [
      "              precision    recall  f1-score   support\n",
      "\n",
      "           0       0.86      1.00      0.93      9334\n",
      "           1       0.00      0.00      0.00      1502\n",
      "\n",
      "    accuracy                           0.86     10836\n",
      "   macro avg       0.43      0.50      0.46     10836\n",
      "weighted avg       0.74      0.86      0.80     10836\n",
      "\n"
     ]
    },
    {
     "name": "stderr",
     "output_type": "stream",
     "text": [
      "/home/delucca/.cache/pypoetry/virtualenvs/mo810-MtB-mBzd-py3.10/lib/python3.10/site-packages/sklearn/metrics/_classification.py:1334: UndefinedMetricWarning: Precision and F-score are ill-defined and being set to 0.0 in labels with no predicted samples. Use `zero_division` parameter to control this behavior.\n",
      "  _warn_prf(average, modifier, msg_start, len(result))\n",
      "/home/delucca/.cache/pypoetry/virtualenvs/mo810-MtB-mBzd-py3.10/lib/python3.10/site-packages/sklearn/metrics/_classification.py:1334: UndefinedMetricWarning: Precision and F-score are ill-defined and being set to 0.0 in labels with no predicted samples. Use `zero_division` parameter to control this behavior.\n",
      "  _warn_prf(average, modifier, msg_start, len(result))\n",
      "/home/delucca/.cache/pypoetry/virtualenvs/mo810-MtB-mBzd-py3.10/lib/python3.10/site-packages/sklearn/metrics/_classification.py:1334: UndefinedMetricWarning: Precision and F-score are ill-defined and being set to 0.0 in labels with no predicted samples. Use `zero_division` parameter to control this behavior.\n",
      "  _warn_prf(average, modifier, msg_start, len(result))\n"
     ]
    }
   ],
   "source": [
    "y_pred = model.predict_with_threshold(lr_probs, threshold)\n",
    "\n",
    "print(classification_report(y_test, y_pred))"
   ]
  },
  {
   "cell_type": "markdown",
   "id": "c3176b03-b6d3-43d9-bf26-ef4377cf287b",
   "metadata": {},
   "source": [
    "## Utilizando o threshold que iguala a proporção de 1"
   ]
  },
  {
   "cell_type": "code",
   "execution_count": 93,
   "id": "4bf58008-8e1b-43ef-8c98-073782f9c1b9",
   "metadata": {},
   "outputs": [
    {
     "name": "stdout",
     "output_type": "stream",
     "text": [
      "Threshold: 0.187\n"
     ]
    }
   ],
   "source": [
    "def get_threshold_prior(threshold):\n",
    "    y_pred = model.predict_with_threshold(lr_probs, threshold)\n",
    "    return np.mean(y_pred)\n",
    "\n",
    "def find_nearest_idx(array, value):\n",
    "    return (np.abs(array - value)).argmin()\n",
    "\n",
    "thresholds = np.arange(0, 1, 0.001)\n",
    "priors = [get_threshold_prior(t) for t in thresholds]\n",
    "threshold_idx = find_nearest_idx(priors, p1)\n",
    "threshold = thresholds[threshold_idx]\n",
    "\n",
    "print(f'Threshold: {threshold}')"
   ]
  },
  {
   "cell_type": "code",
   "execution_count": 94,
   "id": "e6fe3a80-d992-48fe-9825-9058d9d47367",
   "metadata": {},
   "outputs": [
    {
     "name": "stdout",
     "output_type": "stream",
     "text": [
      "              precision    recall  f1-score   support\n",
      "\n",
      "           0       0.88      0.88      0.88      9334\n",
      "           1       0.24      0.23      0.23      1502\n",
      "\n",
      "    accuracy                           0.79     10836\n",
      "   macro avg       0.56      0.56      0.56     10836\n",
      "weighted avg       0.79      0.79      0.79     10836\n",
      "\n"
     ]
    }
   ],
   "source": [
    "y_pred = model.predict_with_threshold(lr_probs, threshold)\n",
    "\n",
    "print(classification_report(y_test, y_pred))"
   ]
  },
  {
   "cell_type": "code",
   "execution_count": 95,
   "id": "8290aa6a-e7c3-4e5e-88b9-535728442bd3",
   "metadata": {},
   "outputs": [
    {
     "name": "stdout",
     "output_type": "stream",
     "text": [
      "Original prior for 1: 0.13205980066445183\n",
      "Predicted prior for 1: 0.13205980066445183\n",
      "-------\n",
      "Original prior for 0: 0.8679401993355482\n",
      "Predicted prior for 0: 0.8679401993355482\n"
     ]
    }
   ],
   "source": [
    "y_p1 = np.mean(y_pred)\n",
    "y_p0 = 1 - y_p1\n",
    "\n",
    "print(f'Original prior for 1: {p1}')\n",
    "print(f'Predicted prior for 1: {y_p1}')\n",
    "\n",
    "print('-------')\n",
    "\n",
    "print(f'Original prior for 0: {p0}')\n",
    "print(f'Predicted prior for 0: {y_p0}')"
   ]
  }
 ],
 "metadata": {
  "kernelspec": {
   "display_name": "Python 3 (ipykernel)",
   "language": "python",
   "name": "python3"
  },
  "language_info": {
   "codemirror_mode": {
    "name": "ipython",
    "version": 3
   },
   "file_extension": ".py",
   "mimetype": "text/x-python",
   "name": "python",
   "nbconvert_exporter": "python",
   "pygments_lexer": "ipython3",
   "version": "3.10.8"
  }
 },
 "nbformat": 4,
 "nbformat_minor": 5
}
